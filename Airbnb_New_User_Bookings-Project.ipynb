{
 "cells": [
  {
   "cell_type": "markdown",
   "metadata": {},
   "source": [
    "# Airbnb New User Bookings"
   ]
  },
  {
   "cell_type": "markdown",
   "metadata": {},
   "source": [
    "**Dataset source** https://www.kaggle.com/c/airbnb-recruiting-new-user-bookings/data"
   ]
  },
  {
   "cell_type": "markdown",
   "metadata": {},
   "source": [
    "## Data Description\n",
    "In this challenge, you are given a list of users along with their demographics, web session records, and some summary statistics. You are asked to predict which country a new user's first booking destination will be. All the users in this dataset are from the USA.\n",
    "\n",
    "There are 12 possible outcomes of the destination country: 'US', 'FR', 'CA', 'GB', 'ES', 'IT', 'PT', 'NL','DE', 'AU', 'NDF' (no destination found), and 'other'. Please note that 'NDF' is different from 'other' because 'other' means there was a booking, but is to a country not included in the list, while 'NDF' means there wasn't a booking.\n",
    "\n",
    "The training and test sets are split by dates. In the test set, you will predict all the new users with first activities after 7/1/2014 (note: this is updated on 12/5/15 when the competition restarted). In the sessions dataset, the data only dates back to 1/1/2014, while the users dataset dates back to 2010. \n",
    "\n",
    "**File descriptions**\n",
    "- train_users.csv - the training set of users\n",
    "- test_users.csv - the test set of users\n",
    "    - id: user id\n",
    "    - date_account_created: the date of account creation\n",
    "    - timestamp_first_active: timestamp of the first activity, note that it can be earlier than date_account_created or date_first_booking because a user can search before signing up\n",
    "    - date_first_booking: date of first booking\n",
    "    - gender\n",
    "    - age\n",
    "    - signup_method\n",
    "    - signup_flow: the page a user came to signup up from\n",
    "    - language: international language preference\n",
    "    - affiliate_channel: what kind of paid marketing\n",
    "    - affiliate_provider: where the marketing is e.g. google, craigslist, other\n",
    "    - first_affiliate_tracked: whats the first marketing the user interacted with before the signing up\n",
    "    - signup_app\n",
    "    - first_device_type\n",
    "    - first_browser\n",
    "    - country_destination: this is the target variable you are to predict\n",
    "- sessions.csv - web sessions log for users\n",
    "    - user_id: to be joined with the column 'id' in users table\n",
    "    - action\n",
    "    - action_type\n",
    "    - action_detail\n",
    "    - device_type\n",
    "    - secs_elapsed\n",
    "- countries.csv - summary statistics of destination countries in this dataset and their locations\n",
    "- age_gender_bkts.csv - summary statistics of users' age group, gender, country of destination\n",
    "- sample_submission.csv - correct format for submitting your predictions"
   ]
  },
  {
   "cell_type": "markdown",
   "metadata": {},
   "source": [
    "# Import required packages"
   ]
  },
  {
   "cell_type": "code",
   "execution_count": 1,
   "metadata": {},
   "outputs": [],
   "source": [
    "from pyspark.sql import SparkSession\n",
    "from pyspark.sql.types import *\n",
    "from pyspark.ml.feature import StringIndexer, OneHotEncoder, VectorAssembler\n",
    "from pyspark.ml.classification import RandomForestClassifier\n",
    "from pyspark.ml.evaluation import MulticlassClassificationEvaluator\n",
    "from pyspark.ml import Pipeline\n",
    "from pyspark.sql import functions as pySFun\n",
    "import numpy as np\n",
    "import pandas as pd\n",
    "import seaborn as sns\n",
    "import matplotlib.pyplot as plt\n",
    "from pyspark.sql.functions import explode"
   ]
  },
  {
   "cell_type": "markdown",
   "metadata": {},
   "source": [
    "# Create SparkSession"
   ]
  },
  {
   "cell_type": "code",
   "execution_count": 2,
   "metadata": {},
   "outputs": [],
   "source": [
    "spark = SparkSession \\\n",
    "    .builder \\\n",
    "    .appName('Airbnb New User Bookings') \\\n",
    "    .getOrCreate()"
   ]
  },
  {
   "cell_type": "markdown",
   "metadata": {},
   "source": [
    "# Data Wrangling"
   ]
  },
  {
   "cell_type": "markdown",
   "metadata": {},
   "source": [
    "## Read Data"
   ]
  },
  {
   "cell_type": "markdown",
   "metadata": {},
   "source": [
    "### Read Countries"
   ]
  },
  {
   "cell_type": "code",
   "execution_count": 4,
   "metadata": {},
   "outputs": [],
   "source": [
    "CountriesData_schema = StructType([\n",
    "    StructField(\"country_destination\", StringType()),\n",
    "    StructField(\"lat_destination\", DoubleType()),\n",
    "    StructField(\"lng_destination\", DoubleType()),\n",
    "    StructField(\"distance_km\", DoubleType()),\n",
    "    StructField(\"destination_km2\", DoubleType()),\n",
    "    StructField(\"destination_language\", StringType()),\n",
    "    StructField(\"language_levenshtein_distance\", DoubleType()),\n",
    "])\n",
    "\n",
    "CountriesData = spark.read\\\n",
    "                    .format('csv')\\\n",
    "                    .option('header', 'true')\\\n",
    "                    .option('ignoreLeadingWhiteSpace', 'true')\\\n",
    "                    .schema(CountriesData_schema)\\\n",
    "                    .load('./data/countries.csv')"
   ]
  },
  {
   "cell_type": "code",
   "execution_count": 5,
   "metadata": {},
   "outputs": [
    {
     "data": {
      "text/html": [
       "<div>\n",
       "<style scoped>\n",
       "    .dataframe tbody tr th:only-of-type {\n",
       "        vertical-align: middle;\n",
       "    }\n",
       "\n",
       "    .dataframe tbody tr th {\n",
       "        vertical-align: top;\n",
       "    }\n",
       "\n",
       "    .dataframe thead th {\n",
       "        text-align: right;\n",
       "    }\n",
       "</style>\n",
       "<table border=\"1\" class=\"dataframe\">\n",
       "  <thead>\n",
       "    <tr style=\"text-align: right;\">\n",
       "      <th></th>\n",
       "      <th>country_destination</th>\n",
       "      <th>lat_destination</th>\n",
       "      <th>lng_destination</th>\n",
       "      <th>distance_km</th>\n",
       "      <th>destination_km2</th>\n",
       "      <th>destination_language</th>\n",
       "      <th>language_levenshtein_distance</th>\n",
       "    </tr>\n",
       "  </thead>\n",
       "  <tbody>\n",
       "    <tr>\n",
       "      <th>0</th>\n",
       "      <td>AU</td>\n",
       "      <td>-26.853388</td>\n",
       "      <td>133.275160</td>\n",
       "      <td>15297.7440</td>\n",
       "      <td>7741220.0</td>\n",
       "      <td>eng</td>\n",
       "      <td>0.00</td>\n",
       "    </tr>\n",
       "    <tr>\n",
       "      <th>1</th>\n",
       "      <td>CA</td>\n",
       "      <td>62.393303</td>\n",
       "      <td>-96.818146</td>\n",
       "      <td>2828.1333</td>\n",
       "      <td>9984670.0</td>\n",
       "      <td>eng</td>\n",
       "      <td>0.00</td>\n",
       "    </tr>\n",
       "    <tr>\n",
       "      <th>2</th>\n",
       "      <td>DE</td>\n",
       "      <td>51.165707</td>\n",
       "      <td>10.452764</td>\n",
       "      <td>7879.5680</td>\n",
       "      <td>357022.0</td>\n",
       "      <td>deu</td>\n",
       "      <td>72.61</td>\n",
       "    </tr>\n",
       "    <tr>\n",
       "      <th>3</th>\n",
       "      <td>ES</td>\n",
       "      <td>39.896027</td>\n",
       "      <td>-2.487694</td>\n",
       "      <td>7730.7240</td>\n",
       "      <td>505370.0</td>\n",
       "      <td>spa</td>\n",
       "      <td>92.25</td>\n",
       "    </tr>\n",
       "    <tr>\n",
       "      <th>4</th>\n",
       "      <td>FR</td>\n",
       "      <td>46.232193</td>\n",
       "      <td>2.209667</td>\n",
       "      <td>7682.9450</td>\n",
       "      <td>643801.0</td>\n",
       "      <td>fra</td>\n",
       "      <td>92.06</td>\n",
       "    </tr>\n",
       "    <tr>\n",
       "      <th>5</th>\n",
       "      <td>GB</td>\n",
       "      <td>54.633220</td>\n",
       "      <td>-3.432277</td>\n",
       "      <td>6883.6590</td>\n",
       "      <td>243610.0</td>\n",
       "      <td>eng</td>\n",
       "      <td>0.00</td>\n",
       "    </tr>\n",
       "    <tr>\n",
       "      <th>6</th>\n",
       "      <td>IT</td>\n",
       "      <td>41.873990</td>\n",
       "      <td>12.564167</td>\n",
       "      <td>8636.6310</td>\n",
       "      <td>301340.0</td>\n",
       "      <td>ita</td>\n",
       "      <td>89.40</td>\n",
       "    </tr>\n",
       "    <tr>\n",
       "      <th>7</th>\n",
       "      <td>NL</td>\n",
       "      <td>52.133057</td>\n",
       "      <td>5.295250</td>\n",
       "      <td>7524.3203</td>\n",
       "      <td>41543.0</td>\n",
       "      <td>nld</td>\n",
       "      <td>63.22</td>\n",
       "    </tr>\n",
       "    <tr>\n",
       "      <th>8</th>\n",
       "      <td>PT</td>\n",
       "      <td>39.553444</td>\n",
       "      <td>-7.839319</td>\n",
       "      <td>7355.2534</td>\n",
       "      <td>92090.0</td>\n",
       "      <td>por</td>\n",
       "      <td>95.45</td>\n",
       "    </tr>\n",
       "    <tr>\n",
       "      <th>9</th>\n",
       "      <td>US</td>\n",
       "      <td>36.966427</td>\n",
       "      <td>-95.844030</td>\n",
       "      <td>0.0000</td>\n",
       "      <td>9826675.0</td>\n",
       "      <td>eng</td>\n",
       "      <td>0.00</td>\n",
       "    </tr>\n",
       "  </tbody>\n",
       "</table>\n",
       "</div>"
      ],
      "text/plain": [
       "  country_destination  lat_destination  lng_destination  distance_km  \\\n",
       "0                  AU       -26.853388       133.275160   15297.7440   \n",
       "1                  CA        62.393303       -96.818146    2828.1333   \n",
       "2                  DE        51.165707        10.452764    7879.5680   \n",
       "3                  ES        39.896027        -2.487694    7730.7240   \n",
       "4                  FR        46.232193         2.209667    7682.9450   \n",
       "5                  GB        54.633220        -3.432277    6883.6590   \n",
       "6                  IT        41.873990        12.564167    8636.6310   \n",
       "7                  NL        52.133057         5.295250    7524.3203   \n",
       "8                  PT        39.553444        -7.839319    7355.2534   \n",
       "9                  US        36.966427       -95.844030       0.0000   \n",
       "\n",
       "   destination_km2 destination_language  language_levenshtein_distance  \n",
       "0        7741220.0                  eng                           0.00  \n",
       "1        9984670.0                  eng                           0.00  \n",
       "2         357022.0                  deu                          72.61  \n",
       "3         505370.0                  spa                          92.25  \n",
       "4         643801.0                  fra                          92.06  \n",
       "5         243610.0                  eng                           0.00  \n",
       "6         301340.0                  ita                          89.40  \n",
       "7          41543.0                  nld                          63.22  \n",
       "8          92090.0                  por                          95.45  \n",
       "9        9826675.0                  eng                           0.00  "
      ]
     },
     "execution_count": 5,
     "metadata": {},
     "output_type": "execute_result"
    }
   ],
   "source": [
    "CountriesData.toPandas()"
   ]
  },
  {
   "cell_type": "code",
   "execution_count": 25,
   "metadata": {},
   "outputs": [
    {
     "name": "stdout",
     "output_type": "stream",
     "text": [
      "We have  10  countries in the below schema\n",
      "root\n",
      " |-- country_destination: string (nullable = true)\n",
      " |-- lat_destination: double (nullable = true)\n",
      " |-- lng_destination: double (nullable = true)\n",
      " |-- distance_km: double (nullable = true)\n",
      " |-- destination_km2: double (nullable = true)\n",
      " |-- destination_language: string (nullable = true)\n",
      " |-- language_levenshtein_distance: double (nullable = true)\n",
      "\n"
     ]
    },
    {
     "data": {
      "text/html": [
       "<div>\n",
       "<style scoped>\n",
       "    .dataframe tbody tr th:only-of-type {\n",
       "        vertical-align: middle;\n",
       "    }\n",
       "\n",
       "    .dataframe tbody tr th {\n",
       "        vertical-align: top;\n",
       "    }\n",
       "\n",
       "    .dataframe thead th {\n",
       "        text-align: right;\n",
       "    }\n",
       "</style>\n",
       "<table border=\"1\" class=\"dataframe\">\n",
       "  <thead>\n",
       "    <tr style=\"text-align: right;\">\n",
       "      <th></th>\n",
       "      <th>country_destination</th>\n",
       "      <th>lat_destination</th>\n",
       "      <th>lng_destination</th>\n",
       "      <th>distance_km</th>\n",
       "      <th>destination_km2</th>\n",
       "      <th>destination_language</th>\n",
       "      <th>language_levenshtein_distance</th>\n",
       "    </tr>\n",
       "  </thead>\n",
       "  <tbody>\n",
       "    <tr>\n",
       "      <th>0</th>\n",
       "      <td>AU</td>\n",
       "      <td>-26.853388</td>\n",
       "      <td>133.275160</td>\n",
       "      <td>15297.7440</td>\n",
       "      <td>7741220.0</td>\n",
       "      <td>eng</td>\n",
       "      <td>0.00</td>\n",
       "    </tr>\n",
       "    <tr>\n",
       "      <th>1</th>\n",
       "      <td>CA</td>\n",
       "      <td>62.393303</td>\n",
       "      <td>-96.818146</td>\n",
       "      <td>2828.1333</td>\n",
       "      <td>9984670.0</td>\n",
       "      <td>eng</td>\n",
       "      <td>0.00</td>\n",
       "    </tr>\n",
       "    <tr>\n",
       "      <th>2</th>\n",
       "      <td>DE</td>\n",
       "      <td>51.165707</td>\n",
       "      <td>10.452764</td>\n",
       "      <td>7879.5680</td>\n",
       "      <td>357022.0</td>\n",
       "      <td>deu</td>\n",
       "      <td>72.61</td>\n",
       "    </tr>\n",
       "    <tr>\n",
       "      <th>3</th>\n",
       "      <td>ES</td>\n",
       "      <td>39.896027</td>\n",
       "      <td>-2.487694</td>\n",
       "      <td>7730.7240</td>\n",
       "      <td>505370.0</td>\n",
       "      <td>spa</td>\n",
       "      <td>92.25</td>\n",
       "    </tr>\n",
       "    <tr>\n",
       "      <th>4</th>\n",
       "      <td>FR</td>\n",
       "      <td>46.232193</td>\n",
       "      <td>2.209667</td>\n",
       "      <td>7682.9450</td>\n",
       "      <td>643801.0</td>\n",
       "      <td>fra</td>\n",
       "      <td>92.06</td>\n",
       "    </tr>\n",
       "  </tbody>\n",
       "</table>\n",
       "</div>"
      ],
      "text/plain": [
       "  country_destination  lat_destination  lng_destination  distance_km  \\\n",
       "0                  AU       -26.853388       133.275160   15297.7440   \n",
       "1                  CA        62.393303       -96.818146    2828.1333   \n",
       "2                  DE        51.165707        10.452764    7879.5680   \n",
       "3                  ES        39.896027        -2.487694    7730.7240   \n",
       "4                  FR        46.232193         2.209667    7682.9450   \n",
       "\n",
       "   destination_km2 destination_language  language_levenshtein_distance  \n",
       "0        7741220.0                  eng                           0.00  \n",
       "1        9984670.0                  eng                           0.00  \n",
       "2         357022.0                  deu                          72.61  \n",
       "3         505370.0                  spa                          92.25  \n",
       "4         643801.0                  fra                          92.06  "
      ]
     },
     "execution_count": 25,
     "metadata": {},
     "output_type": "execute_result"
    }
   ],
   "source": [
    "print('We have ',CountriesData.count(), ' countries in the below schema')\n",
    "CountriesData.printSchema()\n",
    "CountriesData.toPandas().head()"
   ]
  },
  {
   "cell_type": "code",
   "execution_count": null,
   "metadata": {},
   "outputs": [],
   "source": []
  },
  {
   "cell_type": "markdown",
   "metadata": {},
   "source": [
    "### Read Age and Gender Buckets"
   ]
  },
  {
   "cell_type": "code",
   "execution_count": 27,
   "metadata": {},
   "outputs": [],
   "source": [
    "AgeAndGenderBucketsData_schema = StructType([\n",
    "    StructField(\"age_bucket\", StringType()),\n",
    "    StructField(\"country_destination\", StringType()),\n",
    "    StructField(\"gender\", StringType()),\n",
    "    StructField(\"population_in_thousands\", DoubleType()),\n",
    "    StructField(\"year\", StringType()),\n",
    "])\n",
    "\n",
    "AgeAndGenderBucketsData = spark.read\\\n",
    "                            .format('csv')\\\n",
    "                            .option('header', 'true')\\\n",
    "                            .option('ignoreLeadingWhiteSpace', 'true')\\\n",
    "                            .schema(AgeAndGenderBucketsData_schema)\\\n",
    "                            .load('./data/age_gender_bkts.csv')"
   ]
  },
  {
   "cell_type": "code",
   "execution_count": 28,
   "metadata": {},
   "outputs": [
    {
     "name": "stdout",
     "output_type": "stream",
     "text": [
      "We have  420  Age and Gender buckets in the below schema\n",
      "root\n",
      " |-- age_bucket: string (nullable = true)\n",
      " |-- country_destination: string (nullable = true)\n",
      " |-- gender: string (nullable = true)\n",
      " |-- population_in_thousands: double (nullable = true)\n",
      " |-- year: string (nullable = true)\n",
      "\n"
     ]
    },
    {
     "data": {
      "text/html": [
       "<div>\n",
       "<style scoped>\n",
       "    .dataframe tbody tr th:only-of-type {\n",
       "        vertical-align: middle;\n",
       "    }\n",
       "\n",
       "    .dataframe tbody tr th {\n",
       "        vertical-align: top;\n",
       "    }\n",
       "\n",
       "    .dataframe thead th {\n",
       "        text-align: right;\n",
       "    }\n",
       "</style>\n",
       "<table border=\"1\" class=\"dataframe\">\n",
       "  <thead>\n",
       "    <tr style=\"text-align: right;\">\n",
       "      <th></th>\n",
       "      <th>age_bucket</th>\n",
       "      <th>country_destination</th>\n",
       "      <th>gender</th>\n",
       "      <th>population_in_thousands</th>\n",
       "      <th>year</th>\n",
       "    </tr>\n",
       "  </thead>\n",
       "  <tbody>\n",
       "    <tr>\n",
       "      <th>0</th>\n",
       "      <td>100+</td>\n",
       "      <td>AU</td>\n",
       "      <td>male</td>\n",
       "      <td>1.0</td>\n",
       "      <td>2015.0</td>\n",
       "    </tr>\n",
       "    <tr>\n",
       "      <th>1</th>\n",
       "      <td>95-99</td>\n",
       "      <td>AU</td>\n",
       "      <td>male</td>\n",
       "      <td>9.0</td>\n",
       "      <td>2015.0</td>\n",
       "    </tr>\n",
       "    <tr>\n",
       "      <th>2</th>\n",
       "      <td>90-94</td>\n",
       "      <td>AU</td>\n",
       "      <td>male</td>\n",
       "      <td>47.0</td>\n",
       "      <td>2015.0</td>\n",
       "    </tr>\n",
       "    <tr>\n",
       "      <th>3</th>\n",
       "      <td>85-89</td>\n",
       "      <td>AU</td>\n",
       "      <td>male</td>\n",
       "      <td>118.0</td>\n",
       "      <td>2015.0</td>\n",
       "    </tr>\n",
       "    <tr>\n",
       "      <th>4</th>\n",
       "      <td>80-84</td>\n",
       "      <td>AU</td>\n",
       "      <td>male</td>\n",
       "      <td>199.0</td>\n",
       "      <td>2015.0</td>\n",
       "    </tr>\n",
       "  </tbody>\n",
       "</table>\n",
       "</div>"
      ],
      "text/plain": [
       "  age_bucket country_destination gender  population_in_thousands    year\n",
       "0       100+                  AU   male                      1.0  2015.0\n",
       "1      95-99                  AU   male                      9.0  2015.0\n",
       "2      90-94                  AU   male                     47.0  2015.0\n",
       "3      85-89                  AU   male                    118.0  2015.0\n",
       "4      80-84                  AU   male                    199.0  2015.0"
      ]
     },
     "execution_count": 28,
     "metadata": {},
     "output_type": "execute_result"
    }
   ],
   "source": [
    "print('We have ', AgeAndGenderBucketsData.count(), ' Age and Gender buckets in the below schema')\n",
    "AgeAndGenderBucketsData.printSchema()\n",
    "AgeAndGenderBucketsData.toPandas().head()"
   ]
  },
  {
   "cell_type": "code",
   "execution_count": null,
   "metadata": {},
   "outputs": [],
   "source": []
  },
  {
   "cell_type": "markdown",
   "metadata": {},
   "source": [
    "### Read Sample Submission NDF"
   ]
  },
  {
   "cell_type": "code",
   "execution_count": 7,
   "metadata": {},
   "outputs": [],
   "source": [
    "SampleSubmissionNDFData_schema = StructType([\n",
    "    StructField(\"id\", StringType()),\n",
    "    StructField(\"country\", StringType()),\n",
    "])\n",
    "\n",
    "SampleSubmissionNDFData = spark.read\\\n",
    "                            .format('csv')\\\n",
    "                            .option('header', 'true')\\\n",
    "                            .option('ignoreLeadingWhiteSpace', 'true')\\\n",
    "                            .schema(SampleSubmissionNDFData_schema)\\\n",
    "                            .load('./data/sample_submission_NDF.csv')"
   ]
  },
  {
   "cell_type": "code",
   "execution_count": 29,
   "metadata": {},
   "outputs": [
    {
     "name": "stdout",
     "output_type": "stream",
     "text": [
      "We have  62096  sample submission NDF data in the below schema\n",
      "root\n",
      " |-- id: string (nullable = true)\n",
      " |-- country: string (nullable = true)\n",
      "\n"
     ]
    },
    {
     "data": {
      "text/html": [
       "<div>\n",
       "<style scoped>\n",
       "    .dataframe tbody tr th:only-of-type {\n",
       "        vertical-align: middle;\n",
       "    }\n",
       "\n",
       "    .dataframe tbody tr th {\n",
       "        vertical-align: top;\n",
       "    }\n",
       "\n",
       "    .dataframe thead th {\n",
       "        text-align: right;\n",
       "    }\n",
       "</style>\n",
       "<table border=\"1\" class=\"dataframe\">\n",
       "  <thead>\n",
       "    <tr style=\"text-align: right;\">\n",
       "      <th></th>\n",
       "      <th>id</th>\n",
       "      <th>country</th>\n",
       "    </tr>\n",
       "  </thead>\n",
       "  <tbody>\n",
       "    <tr>\n",
       "      <th>0</th>\n",
       "      <td>5uwns89zht</td>\n",
       "      <td>NDF</td>\n",
       "    </tr>\n",
       "    <tr>\n",
       "      <th>1</th>\n",
       "      <td>jtl0dijy2j</td>\n",
       "      <td>NDF</td>\n",
       "    </tr>\n",
       "    <tr>\n",
       "      <th>2</th>\n",
       "      <td>xx0ulgorjt</td>\n",
       "      <td>NDF</td>\n",
       "    </tr>\n",
       "    <tr>\n",
       "      <th>3</th>\n",
       "      <td>6c6puo6ix0</td>\n",
       "      <td>NDF</td>\n",
       "    </tr>\n",
       "    <tr>\n",
       "      <th>4</th>\n",
       "      <td>czqhjk3yfe</td>\n",
       "      <td>NDF</td>\n",
       "    </tr>\n",
       "  </tbody>\n",
       "</table>\n",
       "</div>"
      ],
      "text/plain": [
       "           id country\n",
       "0  5uwns89zht     NDF\n",
       "1  jtl0dijy2j     NDF\n",
       "2  xx0ulgorjt     NDF\n",
       "3  6c6puo6ix0     NDF\n",
       "4  czqhjk3yfe     NDF"
      ]
     },
     "execution_count": 29,
     "metadata": {},
     "output_type": "execute_result"
    }
   ],
   "source": [
    "print('We have ', SampleSubmissionNDFData.count(), ' sample submission NDF data in the below schema')\n",
    "SampleSubmissionNDFData.printSchema()\n",
    "SampleSubmissionNDFData.toPandas().head()"
   ]
  },
  {
   "cell_type": "code",
   "execution_count": null,
   "metadata": {},
   "outputs": [],
   "source": []
  },
  {
   "cell_type": "markdown",
   "metadata": {},
   "source": [
    "### Read Sessions"
   ]
  },
  {
   "cell_type": "code",
   "execution_count": 10,
   "metadata": {},
   "outputs": [],
   "source": [
    "SessionsData_schema = StructType([\n",
    "    StructField(\"user_id\", StringType()),\n",
    "    StructField(\"action\", StringType()),\n",
    "    StructField(\"action_type\", StringType()),\n",
    "    StructField(\"action_detail\", StringType()),\n",
    "    StructField(\"device_type\", StringType()),\n",
    "    StructField(\"secs_elapsed\", DoubleType()),\n",
    "])\n",
    "\n",
    "SessionsData = spark.read\\\n",
    "                    .format('csv')\\\n",
    "                    .option('header', 'true')\\\n",
    "                    .option('ignoreLeadingWhiteSpace', 'true')\\\n",
    "                    .schema(SessionsData_schema)\\\n",
    "                    .load('./data/sessions.csv')"
   ]
  },
  {
   "cell_type": "code",
   "execution_count": 30,
   "metadata": {},
   "outputs": [
    {
     "name": "stdout",
     "output_type": "stream",
     "text": [
      "We have  10567737  of users sessions in the below schema\n",
      "root\n",
      " |-- user_id: string (nullable = true)\n",
      " |-- action: string (nullable = true)\n",
      " |-- action_type: string (nullable = true)\n",
      " |-- action_detail: string (nullable = true)\n",
      " |-- device_type: string (nullable = true)\n",
      " |-- secs_elapsed: double (nullable = true)\n",
      "\n",
      "+----------+--------------+-----------+-------------------+---------------+------------+\n",
      "|   user_id|        action|action_type|      action_detail|    device_type|secs_elapsed|\n",
      "+----------+--------------+-----------+-------------------+---------------+------------+\n",
      "|d1mm9tcy42|        lookup|       null|               null|Windows Desktop|       319.0|\n",
      "|d1mm9tcy42|search_results|      click|view_search_results|Windows Desktop|     67753.0|\n",
      "|d1mm9tcy42|        lookup|       null|               null|Windows Desktop|       301.0|\n",
      "|d1mm9tcy42|search_results|      click|view_search_results|Windows Desktop|     22141.0|\n",
      "|d1mm9tcy42|        lookup|       null|               null|Windows Desktop|       435.0|\n",
      "+----------+--------------+-----------+-------------------+---------------+------------+\n",
      "only showing top 5 rows\n",
      "\n"
     ]
    }
   ],
   "source": [
    "print('We have ', SessionsData.count(),' of users sessions in the below schema')\n",
    "SessionsData.printSchema()\n",
    "SessionsData.show(5)"
   ]
  },
  {
   "cell_type": "code",
   "execution_count": 12,
   "metadata": {},
   "outputs": [
    {
     "name": "stdout",
     "output_type": "stream",
     "text": [
      "root\n",
      " |-- user_id: string (nullable = true)\n",
      " |-- action: string (nullable = true)\n",
      " |-- action_type: string (nullable = true)\n",
      " |-- action_detail: string (nullable = true)\n",
      " |-- device_type: string (nullable = true)\n",
      " |-- secs_elapsed: double (nullable = true)\n",
      "\n"
     ]
    }
   ],
   "source": [
    "SessionsData.printSchema()"
   ]
  },
  {
   "cell_type": "code",
   "execution_count": null,
   "metadata": {},
   "outputs": [],
   "source": []
  },
  {
   "cell_type": "markdown",
   "metadata": {},
   "source": [
    "### Read Users Training Data"
   ]
  },
  {
   "cell_type": "code",
   "execution_count": 46,
   "metadata": {},
   "outputs": [],
   "source": [
    "UsersTrainingData_schema = StructType([\n",
    "    StructField(\"id\", StringType()),\n",
    "    StructField(\"date_account_created\", DateType()),\n",
    "    StructField(\"timestamp_first_active\", StringType()),\n",
    "    StructField(\"date_first_booking\", DateType()),\n",
    "    StructField(\"gender\", StringType()),\n",
    "    StructField(\"age\", FloatType()),\n",
    "    StructField(\"signup_method\", StringType()),\n",
    "    StructField(\"signup_flow\", IntegerType()),\n",
    "    StructField(\"language\", StringType()),\n",
    "    StructField(\"affiliate_channel\", StringType()),\n",
    "    StructField(\"affiliate_provider\", StringType()),\n",
    "    StructField(\"first_affiliate_tracked\", StringType()),\n",
    "    StructField(\"signup_app\", StringType()),\n",
    "    StructField(\"first_device_type\", StringType()),\n",
    "    StructField(\"first_browser\", StringType()),\n",
    "    StructField(\"country_destination\", StringType()),\n",
    "])\n",
    "\n",
    "UsersTrainingData = spark.read\\\n",
    "                    .format('csv')\\\n",
    "                    .option('header', 'true')\\\n",
    "                    .option('ignoreLeadingWhiteSpace', 'true')\\\n",
    "                    .schema(UsersTrainingData_schema)\\\n",
    "                    .load('./data/train_users_2.csv')"
   ]
  },
  {
   "cell_type": "code",
   "execution_count": 32,
   "metadata": {},
   "outputs": [
    {
     "name": "stdout",
     "output_type": "stream",
     "text": [
      "We have  213451  user data in out training data in the below schema\n",
      "root\n",
      " |-- id: string (nullable = true)\n",
      " |-- date_account_created: date (nullable = true)\n",
      " |-- timestamp_first_active: string (nullable = true)\n",
      " |-- date_first_booking: date (nullable = true)\n",
      " |-- gender: string (nullable = true)\n",
      " |-- age: string (nullable = true)\n",
      " |-- signup_method: string (nullable = true)\n",
      " |-- signup_flow: integer (nullable = true)\n",
      " |-- language: string (nullable = true)\n",
      " |-- affiliate_channel: string (nullable = true)\n",
      " |-- affiliate_provider: string (nullable = true)\n",
      " |-- first_affiliate_tracked: string (nullable = true)\n",
      " |-- signup_app: string (nullable = true)\n",
      " |-- first_device_type: string (nullable = true)\n",
      " |-- first_browser: string (nullable = true)\n",
      " |-- country_destination: string (nullable = true)\n",
      "\n"
     ]
    },
    {
     "data": {
      "text/html": [
       "<div>\n",
       "<style scoped>\n",
       "    .dataframe tbody tr th:only-of-type {\n",
       "        vertical-align: middle;\n",
       "    }\n",
       "\n",
       "    .dataframe tbody tr th {\n",
       "        vertical-align: top;\n",
       "    }\n",
       "\n",
       "    .dataframe thead th {\n",
       "        text-align: right;\n",
       "    }\n",
       "</style>\n",
       "<table border=\"1\" class=\"dataframe\">\n",
       "  <thead>\n",
       "    <tr style=\"text-align: right;\">\n",
       "      <th></th>\n",
       "      <th>id</th>\n",
       "      <th>date_account_created</th>\n",
       "      <th>timestamp_first_active</th>\n",
       "      <th>date_first_booking</th>\n",
       "      <th>gender</th>\n",
       "      <th>age</th>\n",
       "      <th>signup_method</th>\n",
       "      <th>signup_flow</th>\n",
       "      <th>language</th>\n",
       "      <th>affiliate_channel</th>\n",
       "      <th>affiliate_provider</th>\n",
       "      <th>first_affiliate_tracked</th>\n",
       "      <th>signup_app</th>\n",
       "      <th>first_device_type</th>\n",
       "      <th>first_browser</th>\n",
       "      <th>country_destination</th>\n",
       "    </tr>\n",
       "  </thead>\n",
       "  <tbody>\n",
       "    <tr>\n",
       "      <th>0</th>\n",
       "      <td>gxn3p5htnn</td>\n",
       "      <td>2010-06-28</td>\n",
       "      <td>20090319043255</td>\n",
       "      <td>None</td>\n",
       "      <td>-unknown-</td>\n",
       "      <td>None</td>\n",
       "      <td>facebook</td>\n",
       "      <td>0</td>\n",
       "      <td>en</td>\n",
       "      <td>direct</td>\n",
       "      <td>direct</td>\n",
       "      <td>untracked</td>\n",
       "      <td>Web</td>\n",
       "      <td>Mac Desktop</td>\n",
       "      <td>Chrome</td>\n",
       "      <td>NDF</td>\n",
       "    </tr>\n",
       "    <tr>\n",
       "      <th>1</th>\n",
       "      <td>820tgsjxq7</td>\n",
       "      <td>2011-05-25</td>\n",
       "      <td>20090523174809</td>\n",
       "      <td>None</td>\n",
       "      <td>MALE</td>\n",
       "      <td>38.0</td>\n",
       "      <td>facebook</td>\n",
       "      <td>0</td>\n",
       "      <td>en</td>\n",
       "      <td>seo</td>\n",
       "      <td>google</td>\n",
       "      <td>untracked</td>\n",
       "      <td>Web</td>\n",
       "      <td>Mac Desktop</td>\n",
       "      <td>Chrome</td>\n",
       "      <td>NDF</td>\n",
       "    </tr>\n",
       "    <tr>\n",
       "      <th>2</th>\n",
       "      <td>4ft3gnwmtx</td>\n",
       "      <td>2010-09-28</td>\n",
       "      <td>20090609231247</td>\n",
       "      <td>2010-08-02</td>\n",
       "      <td>FEMALE</td>\n",
       "      <td>56.0</td>\n",
       "      <td>basic</td>\n",
       "      <td>3</td>\n",
       "      <td>en</td>\n",
       "      <td>direct</td>\n",
       "      <td>direct</td>\n",
       "      <td>untracked</td>\n",
       "      <td>Web</td>\n",
       "      <td>Windows Desktop</td>\n",
       "      <td>IE</td>\n",
       "      <td>US</td>\n",
       "    </tr>\n",
       "    <tr>\n",
       "      <th>3</th>\n",
       "      <td>bjjt8pjhuk</td>\n",
       "      <td>2011-12-05</td>\n",
       "      <td>20091031060129</td>\n",
       "      <td>2012-09-08</td>\n",
       "      <td>FEMALE</td>\n",
       "      <td>42.0</td>\n",
       "      <td>facebook</td>\n",
       "      <td>0</td>\n",
       "      <td>en</td>\n",
       "      <td>direct</td>\n",
       "      <td>direct</td>\n",
       "      <td>untracked</td>\n",
       "      <td>Web</td>\n",
       "      <td>Mac Desktop</td>\n",
       "      <td>Firefox</td>\n",
       "      <td>other</td>\n",
       "    </tr>\n",
       "    <tr>\n",
       "      <th>4</th>\n",
       "      <td>87mebub9p4</td>\n",
       "      <td>2010-09-14</td>\n",
       "      <td>20091208061105</td>\n",
       "      <td>2010-02-18</td>\n",
       "      <td>-unknown-</td>\n",
       "      <td>41.0</td>\n",
       "      <td>basic</td>\n",
       "      <td>0</td>\n",
       "      <td>en</td>\n",
       "      <td>direct</td>\n",
       "      <td>direct</td>\n",
       "      <td>untracked</td>\n",
       "      <td>Web</td>\n",
       "      <td>Mac Desktop</td>\n",
       "      <td>Chrome</td>\n",
       "      <td>US</td>\n",
       "    </tr>\n",
       "  </tbody>\n",
       "</table>\n",
       "</div>"
      ],
      "text/plain": [
       "           id date_account_created timestamp_first_active date_first_booking  \\\n",
       "0  gxn3p5htnn           2010-06-28         20090319043255               None   \n",
       "1  820tgsjxq7           2011-05-25         20090523174809               None   \n",
       "2  4ft3gnwmtx           2010-09-28         20090609231247         2010-08-02   \n",
       "3  bjjt8pjhuk           2011-12-05         20091031060129         2012-09-08   \n",
       "4  87mebub9p4           2010-09-14         20091208061105         2010-02-18   \n",
       "\n",
       "      gender   age signup_method  signup_flow language affiliate_channel  \\\n",
       "0  -unknown-  None      facebook            0       en            direct   \n",
       "1       MALE  38.0      facebook            0       en               seo   \n",
       "2     FEMALE  56.0         basic            3       en            direct   \n",
       "3     FEMALE  42.0      facebook            0       en            direct   \n",
       "4  -unknown-  41.0         basic            0       en            direct   \n",
       "\n",
       "  affiliate_provider first_affiliate_tracked signup_app first_device_type  \\\n",
       "0             direct               untracked        Web       Mac Desktop   \n",
       "1             google               untracked        Web       Mac Desktop   \n",
       "2             direct               untracked        Web   Windows Desktop   \n",
       "3             direct               untracked        Web       Mac Desktop   \n",
       "4             direct               untracked        Web       Mac Desktop   \n",
       "\n",
       "  first_browser country_destination  \n",
       "0        Chrome                 NDF  \n",
       "1        Chrome                 NDF  \n",
       "2            IE                  US  \n",
       "3       Firefox               other  \n",
       "4        Chrome                  US  "
      ]
     },
     "execution_count": 32,
     "metadata": {},
     "output_type": "execute_result"
    }
   ],
   "source": [
    "print('We have ', UsersTrainingData.count(),' user data in out training data in the below schema')\n",
    "UsersTrainingData.printSchema()\n",
    "UsersTrainingData.toPandas().head()"
   ]
  },
  {
   "cell_type": "code",
   "execution_count": null,
   "metadata": {},
   "outputs": [],
   "source": []
  },
  {
   "cell_type": "markdown",
   "metadata": {},
   "source": [
    "### Read Users Testing Data"
   ]
  },
  {
   "cell_type": "code",
   "execution_count": 33,
   "metadata": {},
   "outputs": [],
   "source": [
    "UsersTestingData_schema = StructType([\n",
    "    StructField(\"id\", StringType()),\n",
    "    StructField(\"date_account_created\", DateType()),\n",
    "    StructField(\"timestamp_first_active\", StringType()),\n",
    "    StructField(\"date_first_booking\", DateType()),\n",
    "    StructField(\"gender\", StringType()),\n",
    "    StructField(\"age\", StringType()),\n",
    "    StructField(\"signup_method\", StringType()),\n",
    "    StructField(\"signup_flow\", IntegerType()),\n",
    "    StructField(\"language\", StringType()),\n",
    "    StructField(\"affiliate_channel\", StringType()),\n",
    "    StructField(\"affiliate_provider\", StringType()),\n",
    "    StructField(\"first_affiliate_tracked\", StringType()),\n",
    "    StructField(\"signup_app\", StringType()),\n",
    "    StructField(\"first_device_type\", StringType()),\n",
    "    StructField(\"first_browser\", StringType()),\n",
    "])\n",
    "\n",
    "UsersTestingData = spark.read\\\n",
    "                        .format('csv')\\\n",
    "                        .option('header', 'true')\\\n",
    "                        .option('ignoreLeadingWhiteSpace', 'true')\\\n",
    "                        .schema(UsersTestingData_schema)\\\n",
    "                        .load('./data/test_users.csv')"
   ]
  },
  {
   "cell_type": "code",
   "execution_count": 34,
   "metadata": {},
   "outputs": [
    {
     "name": "stdout",
     "output_type": "stream",
     "text": [
      "We have  62096 of users data for trsting in the below schema\n",
      "root\n",
      " |-- id: string (nullable = true)\n",
      " |-- date_account_created: date (nullable = true)\n",
      " |-- timestamp_first_active: string (nullable = true)\n",
      " |-- date_first_booking: date (nullable = true)\n",
      " |-- gender: string (nullable = true)\n",
      " |-- age: string (nullable = true)\n",
      " |-- signup_method: string (nullable = true)\n",
      " |-- signup_flow: integer (nullable = true)\n",
      " |-- language: string (nullable = true)\n",
      " |-- affiliate_channel: string (nullable = true)\n",
      " |-- affiliate_provider: string (nullable = true)\n",
      " |-- first_affiliate_tracked: string (nullable = true)\n",
      " |-- signup_app: string (nullable = true)\n",
      " |-- first_device_type: string (nullable = true)\n",
      " |-- first_browser: string (nullable = true)\n",
      "\n"
     ]
    },
    {
     "data": {
      "text/html": [
       "<div>\n",
       "<style scoped>\n",
       "    .dataframe tbody tr th:only-of-type {\n",
       "        vertical-align: middle;\n",
       "    }\n",
       "\n",
       "    .dataframe tbody tr th {\n",
       "        vertical-align: top;\n",
       "    }\n",
       "\n",
       "    .dataframe thead th {\n",
       "        text-align: right;\n",
       "    }\n",
       "</style>\n",
       "<table border=\"1\" class=\"dataframe\">\n",
       "  <thead>\n",
       "    <tr style=\"text-align: right;\">\n",
       "      <th></th>\n",
       "      <th>id</th>\n",
       "      <th>date_account_created</th>\n",
       "      <th>timestamp_first_active</th>\n",
       "      <th>date_first_booking</th>\n",
       "      <th>gender</th>\n",
       "      <th>age</th>\n",
       "      <th>signup_method</th>\n",
       "      <th>signup_flow</th>\n",
       "      <th>language</th>\n",
       "      <th>affiliate_channel</th>\n",
       "      <th>affiliate_provider</th>\n",
       "      <th>first_affiliate_tracked</th>\n",
       "      <th>signup_app</th>\n",
       "      <th>first_device_type</th>\n",
       "      <th>first_browser</th>\n",
       "    </tr>\n",
       "  </thead>\n",
       "  <tbody>\n",
       "    <tr>\n",
       "      <th>0</th>\n",
       "      <td>5uwns89zht</td>\n",
       "      <td>2014-07-01</td>\n",
       "      <td>20140701000006</td>\n",
       "      <td>None</td>\n",
       "      <td>FEMALE</td>\n",
       "      <td>35.0</td>\n",
       "      <td>facebook</td>\n",
       "      <td>0</td>\n",
       "      <td>en</td>\n",
       "      <td>direct</td>\n",
       "      <td>direct</td>\n",
       "      <td>untracked</td>\n",
       "      <td>Moweb</td>\n",
       "      <td>iPhone</td>\n",
       "      <td>Mobile Safari</td>\n",
       "    </tr>\n",
       "    <tr>\n",
       "      <th>1</th>\n",
       "      <td>jtl0dijy2j</td>\n",
       "      <td>2014-07-01</td>\n",
       "      <td>20140701000051</td>\n",
       "      <td>None</td>\n",
       "      <td>-unknown-</td>\n",
       "      <td>None</td>\n",
       "      <td>basic</td>\n",
       "      <td>0</td>\n",
       "      <td>en</td>\n",
       "      <td>direct</td>\n",
       "      <td>direct</td>\n",
       "      <td>untracked</td>\n",
       "      <td>Moweb</td>\n",
       "      <td>iPhone</td>\n",
       "      <td>Mobile Safari</td>\n",
       "    </tr>\n",
       "    <tr>\n",
       "      <th>2</th>\n",
       "      <td>xx0ulgorjt</td>\n",
       "      <td>2014-07-01</td>\n",
       "      <td>20140701000148</td>\n",
       "      <td>None</td>\n",
       "      <td>-unknown-</td>\n",
       "      <td>None</td>\n",
       "      <td>basic</td>\n",
       "      <td>0</td>\n",
       "      <td>en</td>\n",
       "      <td>direct</td>\n",
       "      <td>direct</td>\n",
       "      <td>linked</td>\n",
       "      <td>Web</td>\n",
       "      <td>Windows Desktop</td>\n",
       "      <td>Chrome</td>\n",
       "    </tr>\n",
       "    <tr>\n",
       "      <th>3</th>\n",
       "      <td>6c6puo6ix0</td>\n",
       "      <td>2014-07-01</td>\n",
       "      <td>20140701000215</td>\n",
       "      <td>None</td>\n",
       "      <td>-unknown-</td>\n",
       "      <td>None</td>\n",
       "      <td>basic</td>\n",
       "      <td>0</td>\n",
       "      <td>en</td>\n",
       "      <td>direct</td>\n",
       "      <td>direct</td>\n",
       "      <td>linked</td>\n",
       "      <td>Web</td>\n",
       "      <td>Windows Desktop</td>\n",
       "      <td>IE</td>\n",
       "    </tr>\n",
       "    <tr>\n",
       "      <th>4</th>\n",
       "      <td>czqhjk3yfe</td>\n",
       "      <td>2014-07-01</td>\n",
       "      <td>20140701000305</td>\n",
       "      <td>None</td>\n",
       "      <td>-unknown-</td>\n",
       "      <td>None</td>\n",
       "      <td>basic</td>\n",
       "      <td>0</td>\n",
       "      <td>en</td>\n",
       "      <td>direct</td>\n",
       "      <td>direct</td>\n",
       "      <td>untracked</td>\n",
       "      <td>Web</td>\n",
       "      <td>Mac Desktop</td>\n",
       "      <td>Safari</td>\n",
       "    </tr>\n",
       "  </tbody>\n",
       "</table>\n",
       "</div>"
      ],
      "text/plain": [
       "           id date_account_created timestamp_first_active date_first_booking  \\\n",
       "0  5uwns89zht           2014-07-01         20140701000006               None   \n",
       "1  jtl0dijy2j           2014-07-01         20140701000051               None   \n",
       "2  xx0ulgorjt           2014-07-01         20140701000148               None   \n",
       "3  6c6puo6ix0           2014-07-01         20140701000215               None   \n",
       "4  czqhjk3yfe           2014-07-01         20140701000305               None   \n",
       "\n",
       "      gender   age signup_method  signup_flow language affiliate_channel  \\\n",
       "0     FEMALE  35.0      facebook            0       en            direct   \n",
       "1  -unknown-  None         basic            0       en            direct   \n",
       "2  -unknown-  None         basic            0       en            direct   \n",
       "3  -unknown-  None         basic            0       en            direct   \n",
       "4  -unknown-  None         basic            0       en            direct   \n",
       "\n",
       "  affiliate_provider first_affiliate_tracked signup_app first_device_type  \\\n",
       "0             direct               untracked      Moweb            iPhone   \n",
       "1             direct               untracked      Moweb            iPhone   \n",
       "2             direct                  linked        Web   Windows Desktop   \n",
       "3             direct                  linked        Web   Windows Desktop   \n",
       "4             direct               untracked        Web       Mac Desktop   \n",
       "\n",
       "   first_browser  \n",
       "0  Mobile Safari  \n",
       "1  Mobile Safari  \n",
       "2         Chrome  \n",
       "3             IE  \n",
       "4         Safari  "
      ]
     },
     "execution_count": 34,
     "metadata": {},
     "output_type": "execute_result"
    }
   ],
   "source": [
    "print('We have ', UsersTestingData.count(), 'of users data for trsting in the below schema')\n",
    "UsersTestingData.printSchema()\n",
    "UsersTestingData.toPandas().head()"
   ]
  },
  {
   "cell_type": "code",
   "execution_count": null,
   "metadata": {},
   "outputs": [],
   "source": []
  },
  {
   "cell_type": "markdown",
   "metadata": {},
   "source": [
    "## Make insights about data"
   ]
  },
  {
   "cell_type": "code",
   "execution_count": 48,
   "metadata": {},
   "outputs": [
    {
     "data": {
      "text/plain": [
       "id                          0.000000\n",
       "date_account_created        0.000000\n",
       "timestamp_first_active      0.000000\n",
       "date_first_booking         58.347349\n",
       "gender                     44.829024\n",
       "age                        41.222576\n",
       "signup_method               0.000000\n",
       "signup_flow                 0.000000\n",
       "language                    0.000000\n",
       "affiliate_channel           0.000000\n",
       "affiliate_provider          0.000000\n",
       "first_affiliate_tracked     2.841402\n",
       "signup_app                  0.000000\n",
       "first_device_type           0.000000\n",
       "first_browser               0.000000\n",
       "country_destination         0.000000\n",
       "dtype: float64"
      ]
     },
     "execution_count": 48,
     "metadata": {},
     "output_type": "execute_result"
    }
   ],
   "source": [
    "# list the percentage of null data\n",
    "UsersTrainingDataPD = UsersTrainingData.toPandas()\n",
    "UsersTrainingDataPD.gender.replace('-unknown-', np.nan, inplace=True)\n",
    "insights = (UsersTrainingDataPD.isnull().sum() / UsersTrainingDataPD.shape[0]) * 100\n",
    "insights"
   ]
  },
  {
   "cell_type": "markdown",
   "metadata": {},
   "source": [
    "We have quite a lot of *NaN* in the `age` and `gender` which will yield in lesser performance of the classifiers we will build. \n",
    "The feature `date_first_booking` has a 68% of NaN values because this feature is not present at the test users, and therefore, we won't need it at the *modeling* part."
   ]
  },
  {
   "cell_type": "code",
   "execution_count": 20,
   "metadata": {},
   "outputs": [
    {
     "data": {
      "text/plain": [
       "5394"
      ]
     },
     "execution_count": 20,
     "metadata": {},
     "output_type": "execute_result"
    }
   ],
   "source": [
    "# count gender with type (-unknown) where age is not null\n",
    "UsersTestingData.where(UsersTestingData.gender == '-unknown-').where(UsersTestingData.age.isNull()== False).count()"
   ]
  },
  {
   "cell_type": "code",
   "execution_count": 21,
   "metadata": {},
   "outputs": [
    {
     "data": {
      "text/plain": [
       "28398"
      ]
     },
     "execution_count": 21,
     "metadata": {},
     "output_type": "execute_result"
    }
   ],
   "source": [
    "# count gender with type (-unknown) where age is null\n",
    "UsersTestingData.where(UsersTestingData.gender == '-unknown-').where(UsersTestingData.age.isNull()).count()"
   ]
  },
  {
   "cell_type": "code",
   "execution_count": 42,
   "metadata": {},
   "outputs": [
    {
     "name": "stdout",
     "output_type": "stream",
     "text": [
      "We have 58 % of missing values at date_first_booking in the training data\n"
     ]
    }
   ],
   "source": [
    "print(\"We have\", \n",
    "      int((UsersTrainingDataPD.date_first_booking.isnull().sum() / UsersTrainingDataPD.shape[0]) * 100), \n",
    "      \"% of missing values at date_first_booking in the training data\")"
   ]
  },
  {
   "cell_type": "code",
   "execution_count": 43,
   "metadata": {},
   "outputs": [
    {
     "name": "stdout",
     "output_type": "stream",
     "text": [
      "We have 100 % of missing values at date_first_booking in the testing data\n"
     ]
    }
   ],
   "source": [
    "UsersTestingDataPD = UsersTestingData.toPandas()\n",
    "print(\"We have\", \n",
    "      int((UsersTestingDataPD.date_first_booking.isnull().sum() / UsersTestingDataPD.shape[0]) * 100), \n",
    "      \"% of missing values at date_first_booking in the testing data\")"
   ]
  },
  {
   "cell_type": "markdown",
   "metadata": {},
   "source": [
    "The other feature with a high rate of NaN was age. Let's see:"
   ]
  },
  {
   "cell_type": "code",
   "execution_count": 49,
   "metadata": {},
   "outputs": [
    {
     "data": {
      "text/plain": [
       "count    125461.000000\n",
       "mean         49.668335\n",
       "std         155.666611\n",
       "min           1.000000\n",
       "25%          28.000000\n",
       "50%          34.000000\n",
       "75%          43.000000\n",
       "max        2014.000000\n",
       "Name: age, dtype: float64"
      ]
     },
     "execution_count": 49,
     "metadata": {},
     "output_type": "execute_result"
    }
   ],
   "source": [
    "UsersTrainingDataPD.age.describe()"
   ]
  },
  {
   "cell_type": "markdown",
   "metadata": {},
   "source": [
    "There is some inconsistency in the age of some users as we can see above. It could be because the `age` inpout field was not sanitized or there was some mistakes handlig the data."
   ]
  },
  {
   "cell_type": "code",
   "execution_count": 50,
   "metadata": {},
   "outputs": [
    {
     "name": "stdout",
     "output_type": "stream",
     "text": [
      "So far, do we have  2438 users with age greater than 95 and  158 little less than 18 breaking the [Aribnb Eligibility Terms](https://www.airbnb.com/terms)?\n"
     ]
    }
   ],
   "source": [
    "print('So far, do we have ',sum(UsersTrainingDataPD.age > 95), 'users with age greater than 95 and ',sum(UsersTrainingDataPD.age < 18), 'little less than 18 breaking the [Aribnb Eligibility Terms](https://www.airbnb.com/terms)?')"
   ]
  },
  {
   "cell_type": "code",
   "execution_count": 52,
   "metadata": {},
   "outputs": [
    {
     "data": {
      "text/plain": [
       "count    2438.000000\n",
       "mean      714.261292\n",
       "std       888.874695\n",
       "min        96.000000\n",
       "25%       105.000000\n",
       "50%       105.000000\n",
       "75%      2014.000000\n",
       "max      2014.000000\n",
       "Name: age, dtype: float64"
      ]
     },
     "execution_count": 52,
     "metadata": {},
     "output_type": "execute_result"
    }
   ],
   "source": [
    "UsersTrainingDataPD[UsersTrainingDataPD.age > 95]['age'].describe()"
   ]
  },
  {
   "cell_type": "markdown",
   "metadata": {},
   "source": [
    "It's seems that the weird values are caused by the appearance of 2014. It might be related with a wrong input being added with the new users."
   ]
  },
  {
   "cell_type": "code",
   "execution_count": 53,
   "metadata": {},
   "outputs": [
    {
     "data": {
      "text/plain": [
       "count    158.000000\n",
       "mean      12.202532\n",
       "std        5.916359\n",
       "min        1.000000\n",
       "25%        5.000000\n",
       "50%       16.000000\n",
       "75%       17.000000\n",
       "max       17.000000\n",
       "Name: age, dtype: float64"
      ]
     },
     "execution_count": 53,
     "metadata": {},
     "output_type": "execute_result"
    }
   ],
   "source": [
    "UsersTrainingDataPD[UsersTrainingDataPD.age < 18]['age'].describe()"
   ]
  },
  {
   "cell_type": "markdown",
   "metadata": {},
   "source": [
    "The young users seems to be under an acceptable range being the 50% of those users above 16 years old. \n",
    "We will need to hande the outliers. \n",
    "Try to set an acceptance range and put those out of it to NaN."
   ]
  },
  {
   "cell_type": "code",
   "execution_count": 54,
   "metadata": {},
   "outputs": [],
   "source": [
    "UsersTrainingDataPD.loc[UsersTrainingDataPD.age > 95, 'age'] = np.nan\n",
    "UsersTrainingDataPD.loc[UsersTrainingDataPD.age < 13, 'age'] = np.nan"
   ]
  },
  {
   "cell_type": "code",
   "execution_count": 55,
   "metadata": {},
   "outputs": [
    {
     "data": {
      "image/png": "[encoded data removed]",
      "text/plain": [
       "<Figure size 432x288 with 1 Axes>"
      ]
     },
     "metadata": {
      "needs_background": "light"
     },
     "output_type": "display_data"
    }
   ],
   "source": [
    "sns.distplot(UsersTrainingDataPD.age.dropna(), color='#FD5C64')\n",
    "plt.xlabel('Age')\n",
    "sns.despine()"
   ]
  },
  {
   "cell_type": "markdown",
   "metadata": {},
   "source": [
    "As expected, the common age to travel is between 25 and 40. Let's see if, for example, older people travel in a different way. Let's pick an arbitrary age to split into two groups. Maybe 45?"
   ]
  },
  {
   "cell_type": "code",
   "execution_count": 57,
   "metadata": {},
   "outputs": [
    {
     "data": {
      "image/png": "[encoded data removed]",
      "text/plain": [
       "<Figure size 432x288 with 1 Axes>"
      ]
     },
     "metadata": {
      "needs_background": "light"
     },
     "output_type": "display_data"
    }
   ],
   "source": [
    "age = 45\n",
    "\n",
    "younger = sum(UsersTrainingDataPD.loc[UsersTrainingDataPD['age'] < age, 'country_destination'].value_counts())\n",
    "older = sum(UsersTrainingDataPD.loc[UsersTrainingDataPD['age'] > age, 'country_destination'].value_counts())\n",
    "\n",
    "younger_destinations = UsersTrainingDataPD.loc[UsersTrainingDataPD['age'] < age, 'country_destination'].value_counts() / younger * 100\n",
    "older_destinations = UsersTrainingDataPD.loc[UsersTrainingDataPD['age'] > age, 'country_destination'].value_counts() / older * 100\n",
    "\n",
    "younger_destinations.plot(kind='bar', width=0.4, color='#63EA55', position=0, label='Youngers', rot=30)\n",
    "older_destinations.plot(kind='bar', width=0.4, color='#4DD3C9', position=1, label='Olders', rot=30)\n",
    "\n",
    "plt.legend()\n",
    "plt.xlabel('Destination Country')\n",
    "plt.ylabel('Percentage')\n",
    "\n",
    "sns.despine()\n",
    "plt.show()"
   ]
  },
  {
   "cell_type": "code",
   "execution_count": 58,
   "metadata": {},
   "outputs": [
    {
     "data": {
      "text/plain": [
       "NDF      44.137158\n",
       "US       39.972848\n",
       "other     6.180128\n",
       "FR        2.878712\n",
       "IT        1.585914\n",
       "ES        1.427528\n",
       "GB        1.314396\n",
       "CA        0.855694\n",
       "DE        0.678796\n",
       "NL        0.493670\n",
       "AU        0.345569\n",
       "PT        0.129588\n",
       "Name: country_destination, dtype: float64"
      ]
     },
     "execution_count": 58,
     "metadata": {},
     "output_type": "execute_result"
    }
   ],
   "source": [
    "younger_destinations"
   ]
  },
  {
   "cell_type": "code",
   "execution_count": 59,
   "metadata": {},
   "outputs": [
    {
     "data": {
      "text/plain": [
       "NDF      50.059357\n",
       "US       33.956584\n",
       "other     5.469346\n",
       "FR        3.319766\n",
       "GB        1.806156\n",
       "IT        1.763758\n",
       "ES        1.132027\n",
       "CA        0.894598\n",
       "DE        0.686848\n",
       "NL        0.432460\n",
       "AU        0.360383\n",
       "PT        0.118714\n",
       "Name: country_destination, dtype: float64"
      ]
     },
     "execution_count": 59,
     "metadata": {},
     "output_type": "execute_result"
    }
   ],
   "source": [
    "older_destinations"
   ]
  },
  {
   "cell_type": "markdown",
   "metadata": {},
   "source": [
    "We can see that there are no big differences between the young people and the older people. We need to consider that we do not have the 42% of the ages. \n",
    "\n",
    "As per the previous plots, `age` is not affecting the Destination Country selection, so we can drop it."
   ]
  },
  {
   "cell_type": "code",
   "execution_count": null,
   "metadata": {},
   "outputs": [],
   "source": []
  },
  {
   "cell_type": "code",
   "execution_count": 60,
   "metadata": {},
   "outputs": [
    {
     "data": {
      "image/png": "[encoded data removed]",
      "text/plain": [
       "<Figure size 432x288 with 1 Axes>"
      ]
     },
     "metadata": {
      "needs_background": "light"
     },
     "output_type": "display_data"
    }
   ],
   "source": [
    "UsersTrainingDataPD.gender.value_counts(dropna=False).plot(kind='bar', color='#FD5C64', rot=20)\n",
    "plt.xlabel('Gender')\n",
    "sns.despine()"
   ]
  },
  {
   "cell_type": "code",
   "execution_count": 61,
   "metadata": {},
   "outputs": [
    {
     "data": {
      "text/plain": [
       "0            NaN\n",
       "1           MALE\n",
       "2         FEMALE\n",
       "3         FEMALE\n",
       "4            NaN\n",
       "           ...  \n",
       "213446      MALE\n",
       "213447       NaN\n",
       "213448       NaN\n",
       "213449       NaN\n",
       "213450       NaN\n",
       "Name: gender, Length: 213451, dtype: object"
      ]
     },
     "execution_count": 61,
     "metadata": {},
     "output_type": "execute_result"
    }
   ],
   "source": [
    "UsersTrainingDataPD.gender"
   ]
  },
  {
   "cell_type": "markdown",
   "metadata": {},
   "source": [
    "As we've seen before at this plot we can see the amount of missing data in perspective. Also, notice that there is a slight difference between user gender.\n",
    "\n",
    "Next thing it might be interesting to see if there is any gender preferences when travelling:"
   ]
  },
  {
   "cell_type": "code",
   "execution_count": 63,
   "metadata": {},
   "outputs": [
    {
     "data": {
      "image/png": "[encoded data removed]",
      "text/plain": [
       "<Figure size 432x288 with 1 Axes>"
      ]
     },
     "metadata": {
      "needs_background": "light"
     },
     "output_type": "display_data"
    }
   ],
   "source": [
    "women = sum(UsersTrainingDataPD['gender'] == 'FEMALE')\n",
    "men = sum(UsersTrainingDataPD['gender'] == 'MALE')\n",
    "other = sum(UsersTrainingDataPD['gender'] == 'OTHER')\n",
    "\n",
    "female_destinations = UsersTrainingDataPD.loc[UsersTrainingDataPD['gender'] == 'FEMALE', 'country_destination'].value_counts() / women * 100\n",
    "male_destinations = UsersTrainingDataPD.loc[UsersTrainingDataPD['gender'] == 'MALE', 'country_destination'].value_counts() / men * 100\n",
    "other_destinations = UsersTrainingDataPD.loc[UsersTrainingDataPD['gender'] == 'OTHER', 'country_destination'].value_counts() / other * 100\n",
    "\n",
    "# Bar width\n",
    "width = 0.3\n",
    "\n",
    "male_destinations.plot(kind='bar', width=width, color='#4DD3C9', position=0, label='Male', rot=45)\n",
    "female_destinations.plot(kind='bar', width=width, color='#FFA35D', position=1, label='Female', rot=45)\n",
    "other_destinations.plot(kind='bar', width=width, color='yellow', position=2, label='OTHER', rot=45)\n",
    "\n",
    "plt.legend()\n",
    "plt.xlabel('Destination Country')\n",
    "plt.ylabel('Percentage')\n",
    "\n",
    "sns.despine()\n",
    "plt.show()"
   ]
  },
  {
   "cell_type": "markdown",
   "metadata": {},
   "source": [
    "There are no big differences between the 2 main genders, so this plot it's not really usefull except to know the relative destination frecuency of the countries. Let's see it clear here:"
   ]
  },
  {
   "cell_type": "code",
   "execution_count": 64,
   "metadata": {},
   "outputs": [
    {
     "data": {
      "image/png": "[encoded data removed]",
      "text/plain": [
       "<Figure size 432x288 with 1 Axes>"
      ]
     },
     "metadata": {
      "needs_background": "light"
     },
     "output_type": "display_data"
    }
   ],
   "source": [
    "destination_percentage = UsersTrainingDataPD.country_destination.value_counts() / UsersTrainingDataPD.shape[0] * 100\n",
    "destination_percentage.plot(kind='bar',color='#FD5C64', rot=45)\n",
    "# Using seaborn can also be plotted\n",
    "# sns.countplot(x=\"country_destination\", data=users, order=list(users.country_destination.value_counts().keys()))\n",
    "plt.xlabel('Destination Country')\n",
    "plt.ylabel('Percentage')\n",
    "sns.despine()"
   ]
  },
  {
   "cell_type": "markdown",
   "metadata": {},
   "source": [
    "As per the previous plots, `Gender` is not affecting the Destination Country selection, so we can drop it."
   ]
  },
  {
   "cell_type": "code",
   "execution_count": null,
   "metadata": {},
   "outputs": [],
   "source": []
  },
  {
   "cell_type": "code",
   "execution_count": null,
   "metadata": {},
   "outputs": [],
   "source": []
  },
  {
   "cell_type": "markdown",
   "metadata": {},
   "source": [
    "Let's check the native language when choosing the destination country. So let's see how manny users use English as main language:"
   ]
  },
  {
   "cell_type": "code",
   "execution_count": 66,
   "metadata": {},
   "outputs": [
    {
     "name": "stdout",
     "output_type": "stream",
     "text": [
      "96.65637546790599\n"
     ]
    }
   ],
   "source": [
    "print((sum(UsersTrainingDataPD.language == 'en') / UsersTrainingDataPD.shape[0])*100)"
   ]
  },
  {
   "cell_type": "markdown",
   "metadata": {},
   "source": [
    "With the 96% of users using English as their language, it is understandable that a lot of people stay in the US. Someone maybe thinking, if the language is important, why not travel to GB? We need to remember that there is also a lot of factor we are not acounting so making assumpions or predictions like that might be dangerous."
   ]
  },
  {
   "cell_type": "code",
   "execution_count": null,
   "metadata": {},
   "outputs": [],
   "source": []
  },
  {
   "cell_type": "markdown",
   "metadata": {},
   "source": [
    "`date_first_booking`: As we are seeking to predict users first booking destination so (date_first_booking) does not exist in our test data, also 58% of its values are nulls, so we can drop it."
   ]
  },
  {
   "cell_type": "markdown",
   "metadata": {},
   "source": [
    "`timestamp_first_active` | `date_account_created`: after training experiments found that those dates as features affect the accuracy results negatively."
   ]
  },
  {
   "cell_type": "code",
   "execution_count": null,
   "metadata": {},
   "outputs": [],
   "source": []
  },
  {
   "cell_type": "code",
   "execution_count": null,
   "metadata": {},
   "outputs": [],
   "source": []
  },
  {
   "cell_type": "code",
   "execution_count": 68,
   "metadata": {},
   "outputs": [],
   "source": [
    "# drop records with null values\n",
    "SessionsData_without_na = SessionsData.dropna()"
   ]
  },
  {
   "cell_type": "code",
   "execution_count": 69,
   "metadata": {},
   "outputs": [
    {
     "data": {
      "text/plain": [
       "['user_id',\n",
       " 'action',\n",
       " 'action_type',\n",
       " 'action_detail',\n",
       " 'device_type',\n",
       " 'secs_elapsed']"
      ]
     },
     "execution_count": 69,
     "metadata": {},
     "output_type": "execute_result"
    }
   ],
   "source": [
    "SessionsData_without_na.columns"
   ]
  },
  {
   "cell_type": "code",
   "execution_count": 70,
   "metadata": {},
   "outputs": [],
   "source": [
    "# list the categorical columns in the sessions data\n",
    "Sessions_cat_cols = [item[0] for item in SessionsData_without_na.dtypes if item[1].startswith('string')]"
   ]
  },
  {
   "cell_type": "code",
   "execution_count": 72,
   "metadata": {},
   "outputs": [
    {
     "name": "stdout",
     "output_type": "stream",
     "text": [
      "We have 5  categorical columns in users sessions data\n"
     ]
    },
    {
     "data": {
      "text/plain": [
       "['user_id', 'action', 'action_type', 'action_detail', 'device_type']"
      ]
     },
     "execution_count": 72,
     "metadata": {},
     "output_type": "execute_result"
    }
   ],
   "source": [
    "print('We have', len(Sessions_cat_cols), ' categorical columns in users sessions data')\n",
    "Sessions_cat_cols"
   ]
  },
  {
   "cell_type": "code",
   "execution_count": 73,
   "metadata": {},
   "outputs": [],
   "source": [
    "# list the numerical columns in the sessions data\n",
    "Sessions_num_cols = [item[0] for item in SessionsData_without_na.dtypes if item[1].startswith('int') | item[1].startswith('double')] "
   ]
  },
  {
   "cell_type": "code",
   "execution_count": 74,
   "metadata": {},
   "outputs": [
    {
     "name": "stdout",
     "output_type": "stream",
     "text": [
      "We have 1  numerical columns in users sessions data\n"
     ]
    },
    {
     "data": {
      "text/plain": [
       "['secs_elapsed']"
      ]
     },
     "execution_count": 74,
     "metadata": {},
     "output_type": "execute_result"
    }
   ],
   "source": [
    "print('We have', len(Sessions_num_cols), ' numerical columns in users sessions data')\n",
    "Sessions_num_cols"
   ]
  },
  {
   "cell_type": "code",
   "execution_count": 75,
   "metadata": {},
   "outputs": [],
   "source": [
    "# indexing the categorical columns as we cannot feed the training model with string data\n",
    "Sessions_indexers = [StringIndexer(\n",
    "    inputCol=column, \n",
    "    outputCol=column + '_index', \n",
    "    handleInvalid='keep') for column in Sessions_cat_cols if column not in ['user_id']]"
   ]
  },
  {
   "cell_type": "code",
   "execution_count": 76,
   "metadata": {},
   "outputs": [],
   "source": [
    "Sessions_pipeline = Pipeline(stages=Sessions_indexers)"
   ]
  },
  {
   "cell_type": "code",
   "execution_count": 77,
   "metadata": {},
   "outputs": [],
   "source": [
    "transformedSessionsDF = Sessions_pipeline.fit(SessionsData_without_na)\\\n",
    "                                        .transform(SessionsData_without_na)"
   ]
  },
  {
   "cell_type": "code",
   "execution_count": 78,
   "metadata": {},
   "outputs": [],
   "source": [
    "transformedSessionsDF = transformedSessionsDF.drop('action', 'action_type', 'action_detail', 'device_type')"
   ]
  },
  {
   "cell_type": "code",
   "execution_count": 79,
   "metadata": {},
   "outputs": [
    {
     "data": {
      "text/html": [
       "<div>\n",
       "<style scoped>\n",
       "    .dataframe tbody tr th:only-of-type {\n",
       "        vertical-align: middle;\n",
       "    }\n",
       "\n",
       "    .dataframe tbody tr th {\n",
       "        vertical-align: top;\n",
       "    }\n",
       "\n",
       "    .dataframe thead th {\n",
       "        text-align: right;\n",
       "    }\n",
       "</style>\n",
       "<table border=\"1\" class=\"dataframe\">\n",
       "  <thead>\n",
       "    <tr style=\"text-align: right;\">\n",
       "      <th></th>\n",
       "      <th>user_id</th>\n",
       "      <th>secs_elapsed</th>\n",
       "      <th>action_index</th>\n",
       "      <th>action_type_index</th>\n",
       "      <th>action_detail_index</th>\n",
       "      <th>device_type_index</th>\n",
       "    </tr>\n",
       "  </thead>\n",
       "  <tbody>\n",
       "    <tr>\n",
       "      <th>0</th>\n",
       "      <td>d1mm9tcy42</td>\n",
       "      <td>67753.0</td>\n",
       "      <td>2.0</td>\n",
       "      <td>2.0</td>\n",
       "      <td>0.0</td>\n",
       "      <td>1.0</td>\n",
       "    </tr>\n",
       "    <tr>\n",
       "      <th>1</th>\n",
       "      <td>d1mm9tcy42</td>\n",
       "      <td>22141.0</td>\n",
       "      <td>2.0</td>\n",
       "      <td>2.0</td>\n",
       "      <td>0.0</td>\n",
       "      <td>1.0</td>\n",
       "    </tr>\n",
       "    <tr>\n",
       "      <th>2</th>\n",
       "      <td>d1mm9tcy42</td>\n",
       "      <td>7703.0</td>\n",
       "      <td>2.0</td>\n",
       "      <td>2.0</td>\n",
       "      <td>0.0</td>\n",
       "      <td>1.0</td>\n",
       "    </tr>\n",
       "    <tr>\n",
       "      <th>3</th>\n",
       "      <td>d1mm9tcy42</td>\n",
       "      <td>831.0</td>\n",
       "      <td>3.0</td>\n",
       "      <td>1.0</td>\n",
       "      <td>3.0</td>\n",
       "      <td>1.0</td>\n",
       "    </tr>\n",
       "    <tr>\n",
       "      <th>4</th>\n",
       "      <td>d1mm9tcy42</td>\n",
       "      <td>20842.0</td>\n",
       "      <td>1.0</td>\n",
       "      <td>0.0</td>\n",
       "      <td>0.0</td>\n",
       "      <td>1.0</td>\n",
       "    </tr>\n",
       "  </tbody>\n",
       "</table>\n",
       "</div>"
      ],
      "text/plain": [
       "      user_id  secs_elapsed  action_index  action_type_index  \\\n",
       "0  d1mm9tcy42       67753.0           2.0                2.0   \n",
       "1  d1mm9tcy42       22141.0           2.0                2.0   \n",
       "2  d1mm9tcy42        7703.0           2.0                2.0   \n",
       "3  d1mm9tcy42         831.0           3.0                1.0   \n",
       "4  d1mm9tcy42       20842.0           1.0                0.0   \n",
       "\n",
       "   action_detail_index  device_type_index  \n",
       "0                  0.0                1.0  \n",
       "1                  0.0                1.0  \n",
       "2                  0.0                1.0  \n",
       "3                  3.0                1.0  \n",
       "4                  0.0                1.0  "
      ]
     },
     "execution_count": 79,
     "metadata": {},
     "output_type": "execute_result"
    }
   ],
   "source": [
    "transformedSessionsDF.limit(5).toPandas()"
   ]
  },
  {
   "cell_type": "code",
   "execution_count": 80,
   "metadata": {},
   "outputs": [
    {
     "data": {
      "text/plain": [
       "['secs_elapsed',\n",
       " 'action_index',\n",
       " 'action_type_index',\n",
       " 'action_detail_index',\n",
       " 'device_type_index']"
      ]
     },
     "execution_count": 80,
     "metadata": {},
     "output_type": "execute_result"
    }
   ],
   "source": [
    "# list sessions columns without user_id\n",
    "columns = [column for column in transformedSessionsDF.columns if column != 'user_id']\n",
    "columns"
   ]
  },
  {
   "cell_type": "code",
   "execution_count": 81,
   "metadata": {},
   "outputs": [],
   "source": [
    "# simplify sessions data using data statistics instead of actual data\n",
    "# to be lightweight and able to be processed on one node cluster\n",
    "funs = [pySFun.count, pySFun.sum, pySFun.max, pySFun.min, pySFun.stddev, pySFun.mean]"
   ]
  },
  {
   "cell_type": "code",
   "execution_count": 82,
   "metadata": {},
   "outputs": [],
   "source": [
    "exprs = [f(pySFun.col(c)) for f in funs for c in columns]\n"
   ]
  },
  {
   "cell_type": "code",
   "execution_count": 83,
   "metadata": {},
   "outputs": [
    {
     "data": {
      "text/plain": [
       "[Column<b'count(secs_elapsed)'>,\n",
       " Column<b'count(action_index)'>,\n",
       " Column<b'count(action_type_index)'>,\n",
       " Column<b'count(action_detail_index)'>,\n",
       " Column<b'count(device_type_index)'>,\n",
       " Column<b'sum(secs_elapsed)'>,\n",
       " Column<b'sum(action_index)'>,\n",
       " Column<b'sum(action_type_index)'>,\n",
       " Column<b'sum(action_detail_index)'>,\n",
       " Column<b'sum(device_type_index)'>,\n",
       " Column<b'max(secs_elapsed)'>,\n",
       " Column<b'max(action_index)'>,\n",
       " Column<b'max(action_type_index)'>,\n",
       " Column<b'max(action_detail_index)'>,\n",
       " Column<b'max(device_type_index)'>,\n",
       " Column<b'min(secs_elapsed)'>,\n",
       " Column<b'min(action_index)'>,\n",
       " Column<b'min(action_type_index)'>,\n",
       " Column<b'min(action_detail_index)'>,\n",
       " Column<b'min(device_type_index)'>,\n",
       " Column<b'stddev_samp(secs_elapsed)'>,\n",
       " Column<b'stddev_samp(action_index)'>,\n",
       " Column<b'stddev_samp(action_type_index)'>,\n",
       " Column<b'stddev_samp(action_detail_index)'>,\n",
       " Column<b'stddev_samp(device_type_index)'>,\n",
       " Column<b'avg(secs_elapsed)'>,\n",
       " Column<b'avg(action_index)'>,\n",
       " Column<b'avg(action_type_index)'>,\n",
       " Column<b'avg(action_detail_index)'>,\n",
       " Column<b'avg(device_type_index)'>]"
      ]
     },
     "execution_count": 83,
     "metadata": {},
     "output_type": "execute_result"
    }
   ],
   "source": [
    "exprs"
   ]
  },
  {
   "cell_type": "code",
   "execution_count": 84,
   "metadata": {},
   "outputs": [],
   "source": [
    "transformedSessionsDF_summary = transformedSessionsDF.groupBy('user_id').agg(*exprs).dropna()"
   ]
  },
  {
   "cell_type": "code",
   "execution_count": 85,
   "metadata": {},
   "outputs": [
    {
     "data": {
      "text/plain": [
       "130375"
      ]
     },
     "execution_count": 85,
     "metadata": {},
     "output_type": "execute_result"
    }
   ],
   "source": [
    "transformedSessionsDF_summary.count()"
   ]
  },
  {
   "cell_type": "code",
   "execution_count": 86,
   "metadata": {},
   "outputs": [
    {
     "data": {
      "text/html": [
       "<div>\n",
       "<style scoped>\n",
       "    .dataframe tbody tr th:only-of-type {\n",
       "        vertical-align: middle;\n",
       "    }\n",
       "\n",
       "    .dataframe tbody tr th {\n",
       "        vertical-align: top;\n",
       "    }\n",
       "\n",
       "    .dataframe thead th {\n",
       "        text-align: right;\n",
       "    }\n",
       "</style>\n",
       "<table border=\"1\" class=\"dataframe\">\n",
       "  <thead>\n",
       "    <tr style=\"text-align: right;\">\n",
       "      <th></th>\n",
       "      <th>user_id</th>\n",
       "      <th>count(secs_elapsed)</th>\n",
       "      <th>count(action_index)</th>\n",
       "      <th>count(action_type_index)</th>\n",
       "      <th>count(action_detail_index)</th>\n",
       "      <th>count(device_type_index)</th>\n",
       "      <th>sum(secs_elapsed)</th>\n",
       "      <th>sum(action_index)</th>\n",
       "      <th>sum(action_type_index)</th>\n",
       "      <th>sum(action_detail_index)</th>\n",
       "      <th>...</th>\n",
       "      <th>stddev_samp(secs_elapsed)</th>\n",
       "      <th>stddev_samp(action_index)</th>\n",
       "      <th>stddev_samp(action_type_index)</th>\n",
       "      <th>stddev_samp(action_detail_index)</th>\n",
       "      <th>stddev_samp(device_type_index)</th>\n",
       "      <th>avg(secs_elapsed)</th>\n",
       "      <th>avg(action_index)</th>\n",
       "      <th>avg(action_type_index)</th>\n",
       "      <th>avg(action_detail_index)</th>\n",
       "      <th>avg(device_type_index)</th>\n",
       "    </tr>\n",
       "  </thead>\n",
       "  <tbody>\n",
       "    <tr>\n",
       "      <th>0</th>\n",
       "      <td>9nut71te0s</td>\n",
       "      <td>53</td>\n",
       "      <td>53</td>\n",
       "      <td>53</td>\n",
       "      <td>53</td>\n",
       "      <td>53</td>\n",
       "      <td>1639273.0</td>\n",
       "      <td>468.0</td>\n",
       "      <td>70.0</td>\n",
       "      <td>397.0</td>\n",
       "      <td>...</td>\n",
       "      <td>87702.082327</td>\n",
       "      <td>10.925862</td>\n",
       "      <td>1.105469</td>\n",
       "      <td>8.413868</td>\n",
       "      <td>0.000000</td>\n",
       "      <td>30929.679245</td>\n",
       "      <td>8.830189</td>\n",
       "      <td>1.320755</td>\n",
       "      <td>7.490566</td>\n",
       "      <td>7.000000</td>\n",
       "    </tr>\n",
       "    <tr>\n",
       "      <th>1</th>\n",
       "      <td>zlv8f1qg2g</td>\n",
       "      <td>66</td>\n",
       "      <td>66</td>\n",
       "      <td>66</td>\n",
       "      <td>66</td>\n",
       "      <td>66</td>\n",
       "      <td>1155277.0</td>\n",
       "      <td>851.0</td>\n",
       "      <td>176.0</td>\n",
       "      <td>408.0</td>\n",
       "      <td>...</td>\n",
       "      <td>38619.808168</td>\n",
       "      <td>20.683051</td>\n",
       "      <td>0.966092</td>\n",
       "      <td>12.048503</td>\n",
       "      <td>0.000000</td>\n",
       "      <td>17504.196970</td>\n",
       "      <td>12.893939</td>\n",
       "      <td>2.666667</td>\n",
       "      <td>6.181818</td>\n",
       "      <td>0.000000</td>\n",
       "    </tr>\n",
       "    <tr>\n",
       "      <th>2</th>\n",
       "      <td>srykgkylee</td>\n",
       "      <td>2</td>\n",
       "      <td>2</td>\n",
       "      <td>2</td>\n",
       "      <td>2</td>\n",
       "      <td>2</td>\n",
       "      <td>246.0</td>\n",
       "      <td>186.0</td>\n",
       "      <td>6.0</td>\n",
       "      <td>4.0</td>\n",
       "      <td>...</td>\n",
       "      <td>111.722871</td>\n",
       "      <td>131.521861</td>\n",
       "      <td>0.000000</td>\n",
       "      <td>0.000000</td>\n",
       "      <td>0.000000</td>\n",
       "      <td>123.000000</td>\n",
       "      <td>93.000000</td>\n",
       "      <td>3.000000</td>\n",
       "      <td>2.000000</td>\n",
       "      <td>6.000000</td>\n",
       "    </tr>\n",
       "    <tr>\n",
       "      <th>3</th>\n",
       "      <td>funlgmcmr3</td>\n",
       "      <td>8</td>\n",
       "      <td>8</td>\n",
       "      <td>8</td>\n",
       "      <td>8</td>\n",
       "      <td>8</td>\n",
       "      <td>54421.0</td>\n",
       "      <td>64.0</td>\n",
       "      <td>9.0</td>\n",
       "      <td>53.0</td>\n",
       "      <td>...</td>\n",
       "      <td>12617.517776</td>\n",
       "      <td>8.783101</td>\n",
       "      <td>1.356203</td>\n",
       "      <td>5.755432</td>\n",
       "      <td>0.000000</td>\n",
       "      <td>6802.625000</td>\n",
       "      <td>8.000000</td>\n",
       "      <td>1.125000</td>\n",
       "      <td>6.625000</td>\n",
       "      <td>4.000000</td>\n",
       "    </tr>\n",
       "    <tr>\n",
       "      <th>4</th>\n",
       "      <td>mzduh7va3m</td>\n",
       "      <td>170</td>\n",
       "      <td>170</td>\n",
       "      <td>170</td>\n",
       "      <td>170</td>\n",
       "      <td>170</td>\n",
       "      <td>1483785.0</td>\n",
       "      <td>1651.0</td>\n",
       "      <td>505.0</td>\n",
       "      <td>410.0</td>\n",
       "      <td>...</td>\n",
       "      <td>62754.618005</td>\n",
       "      <td>32.218272</td>\n",
       "      <td>0.296458</td>\n",
       "      <td>3.198721</td>\n",
       "      <td>0.528215</td>\n",
       "      <td>8728.147059</td>\n",
       "      <td>9.711765</td>\n",
       "      <td>2.970588</td>\n",
       "      <td>2.411765</td>\n",
       "      <td>2.070588</td>\n",
       "    </tr>\n",
       "  </tbody>\n",
       "</table>\n",
       "<p>5 rows × 31 columns</p>\n",
       "</div>"
      ],
      "text/plain": [
       "      user_id  count(secs_elapsed)  count(action_index)  \\\n",
       "0  9nut71te0s                   53                   53   \n",
       "1  zlv8f1qg2g                   66                   66   \n",
       "2  srykgkylee                    2                    2   \n",
       "3  funlgmcmr3                    8                    8   \n",
       "4  mzduh7va3m                  170                  170   \n",
       "\n",
       "   count(action_type_index)  count(action_detail_index)  \\\n",
       "0                        53                          53   \n",
       "1                        66                          66   \n",
       "2                         2                           2   \n",
       "3                         8                           8   \n",
       "4                       170                         170   \n",
       "\n",
       "   count(device_type_index)  sum(secs_elapsed)  sum(action_index)  \\\n",
       "0                        53          1639273.0              468.0   \n",
       "1                        66          1155277.0              851.0   \n",
       "2                         2              246.0              186.0   \n",
       "3                         8            54421.0               64.0   \n",
       "4                       170          1483785.0             1651.0   \n",
       "\n",
       "   sum(action_type_index)  sum(action_detail_index)  ...  \\\n",
       "0                    70.0                     397.0  ...   \n",
       "1                   176.0                     408.0  ...   \n",
       "2                     6.0                       4.0  ...   \n",
       "3                     9.0                      53.0  ...   \n",
       "4                   505.0                     410.0  ...   \n",
       "\n",
       "   stddev_samp(secs_elapsed)  stddev_samp(action_index)  \\\n",
       "0               87702.082327                  10.925862   \n",
       "1               38619.808168                  20.683051   \n",
       "2                 111.722871                 131.521861   \n",
       "3               12617.517776                   8.783101   \n",
       "4               62754.618005                  32.218272   \n",
       "\n",
       "   stddev_samp(action_type_index)  stddev_samp(action_detail_index)  \\\n",
       "0                        1.105469                          8.413868   \n",
       "1                        0.966092                         12.048503   \n",
       "2                        0.000000                          0.000000   \n",
       "3                        1.356203                          5.755432   \n",
       "4                        0.296458                          3.198721   \n",
       "\n",
       "   stddev_samp(device_type_index)  avg(secs_elapsed)  avg(action_index)  \\\n",
       "0                        0.000000       30929.679245           8.830189   \n",
       "1                        0.000000       17504.196970          12.893939   \n",
       "2                        0.000000         123.000000          93.000000   \n",
       "3                        0.000000        6802.625000           8.000000   \n",
       "4                        0.528215        8728.147059           9.711765   \n",
       "\n",
       "   avg(action_type_index)  avg(action_detail_index)  avg(device_type_index)  \n",
       "0                1.320755                  7.490566                7.000000  \n",
       "1                2.666667                  6.181818                0.000000  \n",
       "2                3.000000                  2.000000                6.000000  \n",
       "3                1.125000                  6.625000                4.000000  \n",
       "4                2.970588                  2.411765                2.070588  \n",
       "\n",
       "[5 rows x 31 columns]"
      ]
     },
     "execution_count": 86,
     "metadata": {},
     "output_type": "execute_result"
    }
   ],
   "source": [
    "transformedSessionsDF_summary.limit(5).toPandas()"
   ]
  },
  {
   "cell_type": "code",
   "execution_count": null,
   "metadata": {},
   "outputs": [],
   "source": []
  },
  {
   "cell_type": "code",
   "execution_count": null,
   "metadata": {},
   "outputs": [],
   "source": []
  },
  {
   "cell_type": "code",
   "execution_count": 87,
   "metadata": {},
   "outputs": [],
   "source": [
    "# join users data and sessions data\n",
    "# inner join used instead of left join to avoid nulls in training dataset\n",
    "dataset = UsersTrainingData\\\n",
    "            .coalesce(1)\\\n",
    "            .join(transformedSessionsDF_summary, UsersTrainingData.id == transformedSessionsDF_summary.user_id)\\\n",
    "            .drop('id', 'user_id', 'age', 'date_account_created', 'timestamp_first_active', 'date_first_booking')"
   ]
  },
  {
   "cell_type": "code",
   "execution_count": 88,
   "metadata": {},
   "outputs": [
    {
     "data": {
      "text/html": [
       "<div>\n",
       "<style scoped>\n",
       "    .dataframe tbody tr th:only-of-type {\n",
       "        vertical-align: middle;\n",
       "    }\n",
       "\n",
       "    .dataframe tbody tr th {\n",
       "        vertical-align: top;\n",
       "    }\n",
       "\n",
       "    .dataframe thead th {\n",
       "        text-align: right;\n",
       "    }\n",
       "</style>\n",
       "<table border=\"1\" class=\"dataframe\">\n",
       "  <thead>\n",
       "    <tr style=\"text-align: right;\">\n",
       "      <th></th>\n",
       "      <th>gender</th>\n",
       "      <th>signup_method</th>\n",
       "      <th>signup_flow</th>\n",
       "      <th>language</th>\n",
       "      <th>affiliate_channel</th>\n",
       "      <th>affiliate_provider</th>\n",
       "      <th>first_affiliate_tracked</th>\n",
       "      <th>signup_app</th>\n",
       "      <th>first_device_type</th>\n",
       "      <th>first_browser</th>\n",
       "      <th>...</th>\n",
       "      <th>stddev_samp(secs_elapsed)</th>\n",
       "      <th>stddev_samp(action_index)</th>\n",
       "      <th>stddev_samp(action_type_index)</th>\n",
       "      <th>stddev_samp(action_detail_index)</th>\n",
       "      <th>stddev_samp(device_type_index)</th>\n",
       "      <th>avg(secs_elapsed)</th>\n",
       "      <th>avg(action_index)</th>\n",
       "      <th>avg(action_type_index)</th>\n",
       "      <th>avg(action_detail_index)</th>\n",
       "      <th>avg(device_type_index)</th>\n",
       "    </tr>\n",
       "  </thead>\n",
       "  <tbody>\n",
       "    <tr>\n",
       "      <th>0</th>\n",
       "      <td>-unknown-</td>\n",
       "      <td>basic</td>\n",
       "      <td>0</td>\n",
       "      <td>en</td>\n",
       "      <td>direct</td>\n",
       "      <td>direct</td>\n",
       "      <td>untracked</td>\n",
       "      <td>Web</td>\n",
       "      <td>Mac Desktop</td>\n",
       "      <td>Chrome</td>\n",
       "      <td>...</td>\n",
       "      <td>65664.211460</td>\n",
       "      <td>41.900220</td>\n",
       "      <td>1.162660</td>\n",
       "      <td>22.365982</td>\n",
       "      <td>0.0</td>\n",
       "      <td>35326.913043</td>\n",
       "      <td>30.086957</td>\n",
       "      <td>1.521739</td>\n",
       "      <td>15.652174</td>\n",
       "      <td>0.0</td>\n",
       "    </tr>\n",
       "    <tr>\n",
       "      <th>1</th>\n",
       "      <td>-unknown-</td>\n",
       "      <td>basic</td>\n",
       "      <td>0</td>\n",
       "      <td>en</td>\n",
       "      <td>sem-brand</td>\n",
       "      <td>google</td>\n",
       "      <td>untracked</td>\n",
       "      <td>Web</td>\n",
       "      <td>Mac Desktop</td>\n",
       "      <td>Safari</td>\n",
       "      <td>...</td>\n",
       "      <td>25399.779135</td>\n",
       "      <td>19.134683</td>\n",
       "      <td>0.848201</td>\n",
       "      <td>4.044467</td>\n",
       "      <td>0.0</td>\n",
       "      <td>9024.716049</td>\n",
       "      <td>5.703704</td>\n",
       "      <td>0.740741</td>\n",
       "      <td>3.358025</td>\n",
       "      <td>0.0</td>\n",
       "    </tr>\n",
       "    <tr>\n",
       "      <th>2</th>\n",
       "      <td>MALE</td>\n",
       "      <td>facebook</td>\n",
       "      <td>0</td>\n",
       "      <td>en</td>\n",
       "      <td>sem-brand</td>\n",
       "      <td>google</td>\n",
       "      <td>omg</td>\n",
       "      <td>Web</td>\n",
       "      <td>Windows Desktop</td>\n",
       "      <td>IE</td>\n",
       "      <td>...</td>\n",
       "      <td>348232.914625</td>\n",
       "      <td>22.365737</td>\n",
       "      <td>1.492042</td>\n",
       "      <td>18.337337</td>\n",
       "      <td>0.0</td>\n",
       "      <td>107051.285714</td>\n",
       "      <td>23.821429</td>\n",
       "      <td>0.821429</td>\n",
       "      <td>20.964286</td>\n",
       "      <td>1.0</td>\n",
       "    </tr>\n",
       "    <tr>\n",
       "      <th>3</th>\n",
       "      <td>MALE</td>\n",
       "      <td>facebook</td>\n",
       "      <td>0</td>\n",
       "      <td>en</td>\n",
       "      <td>remarketing</td>\n",
       "      <td>google</td>\n",
       "      <td>untracked</td>\n",
       "      <td>Web</td>\n",
       "      <td>Mac Desktop</td>\n",
       "      <td>Chrome</td>\n",
       "      <td>...</td>\n",
       "      <td>52836.263841</td>\n",
       "      <td>16.520190</td>\n",
       "      <td>1.258306</td>\n",
       "      <td>18.391574</td>\n",
       "      <td>0.0</td>\n",
       "      <td>26594.000000</td>\n",
       "      <td>13.250000</td>\n",
       "      <td>2.250000</td>\n",
       "      <td>12.750000</td>\n",
       "      <td>0.0</td>\n",
       "    </tr>\n",
       "    <tr>\n",
       "      <th>4</th>\n",
       "      <td>MALE</td>\n",
       "      <td>facebook</td>\n",
       "      <td>0</td>\n",
       "      <td>en</td>\n",
       "      <td>direct</td>\n",
       "      <td>direct</td>\n",
       "      <td>linked</td>\n",
       "      <td>Web</td>\n",
       "      <td>Mac Desktop</td>\n",
       "      <td>Safari</td>\n",
       "      <td>...</td>\n",
       "      <td>11736.721391</td>\n",
       "      <td>4.509250</td>\n",
       "      <td>1.732051</td>\n",
       "      <td>4.582576</td>\n",
       "      <td>0.0</td>\n",
       "      <td>7183.000000</td>\n",
       "      <td>7.333333</td>\n",
       "      <td>2.000000</td>\n",
       "      <td>8.000000</td>\n",
       "      <td>0.0</td>\n",
       "    </tr>\n",
       "    <tr>\n",
       "      <th>5</th>\n",
       "      <td>-unknown-</td>\n",
       "      <td>basic</td>\n",
       "      <td>0</td>\n",
       "      <td>en</td>\n",
       "      <td>direct</td>\n",
       "      <td>direct</td>\n",
       "      <td>untracked</td>\n",
       "      <td>Web</td>\n",
       "      <td>Mac Desktop</td>\n",
       "      <td>Firefox</td>\n",
       "      <td>...</td>\n",
       "      <td>129991.043237</td>\n",
       "      <td>33.753451</td>\n",
       "      <td>1.422226</td>\n",
       "      <td>5.310795</td>\n",
       "      <td>0.0</td>\n",
       "      <td>43240.000000</td>\n",
       "      <td>44.750000</td>\n",
       "      <td>1.750000</td>\n",
       "      <td>6.750000</td>\n",
       "      <td>0.0</td>\n",
       "    </tr>\n",
       "    <tr>\n",
       "      <th>6</th>\n",
       "      <td>-unknown-</td>\n",
       "      <td>basic</td>\n",
       "      <td>0</td>\n",
       "      <td>en</td>\n",
       "      <td>sem-brand</td>\n",
       "      <td>google</td>\n",
       "      <td>omg</td>\n",
       "      <td>Web</td>\n",
       "      <td>Mac Desktop</td>\n",
       "      <td>Safari</td>\n",
       "      <td>...</td>\n",
       "      <td>213371.033265</td>\n",
       "      <td>20.720137</td>\n",
       "      <td>1.228904</td>\n",
       "      <td>4.121076</td>\n",
       "      <td>0.0</td>\n",
       "      <td>50562.480000</td>\n",
       "      <td>9.680000</td>\n",
       "      <td>1.200000</td>\n",
       "      <td>4.420000</td>\n",
       "      <td>0.0</td>\n",
       "    </tr>\n",
       "    <tr>\n",
       "      <th>7</th>\n",
       "      <td>-unknown-</td>\n",
       "      <td>google</td>\n",
       "      <td>12</td>\n",
       "      <td>en</td>\n",
       "      <td>direct</td>\n",
       "      <td>direct</td>\n",
       "      <td>untracked</td>\n",
       "      <td>Android</td>\n",
       "      <td>Android Phone</td>\n",
       "      <td>-unknown-</td>\n",
       "      <td>...</td>\n",
       "      <td>4330.570863</td>\n",
       "      <td>3.464102</td>\n",
       "      <td>1.154701</td>\n",
       "      <td>8.082904</td>\n",
       "      <td>0.0</td>\n",
       "      <td>2719.000000</td>\n",
       "      <td>12.000000</td>\n",
       "      <td>2.333333</td>\n",
       "      <td>6.666667</td>\n",
       "      <td>3.0</td>\n",
       "    </tr>\n",
       "    <tr>\n",
       "      <th>8</th>\n",
       "      <td>FEMALE</td>\n",
       "      <td>facebook</td>\n",
       "      <td>0</td>\n",
       "      <td>en</td>\n",
       "      <td>content</td>\n",
       "      <td>google</td>\n",
       "      <td>omg</td>\n",
       "      <td>Web</td>\n",
       "      <td>Mac Desktop</td>\n",
       "      <td>Safari</td>\n",
       "      <td>...</td>\n",
       "      <td>148625.979826</td>\n",
       "      <td>5.935466</td>\n",
       "      <td>0.877344</td>\n",
       "      <td>4.712604</td>\n",
       "      <td>0.0</td>\n",
       "      <td>37028.535714</td>\n",
       "      <td>3.621429</td>\n",
       "      <td>1.207143</td>\n",
       "      <td>2.500000</td>\n",
       "      <td>0.0</td>\n",
       "    </tr>\n",
       "    <tr>\n",
       "      <th>9</th>\n",
       "      <td>-unknown-</td>\n",
       "      <td>basic</td>\n",
       "      <td>0</td>\n",
       "      <td>en</td>\n",
       "      <td>direct</td>\n",
       "      <td>direct</td>\n",
       "      <td>untracked</td>\n",
       "      <td>Web</td>\n",
       "      <td>Windows Desktop</td>\n",
       "      <td>Safari</td>\n",
       "      <td>...</td>\n",
       "      <td>145080.772956</td>\n",
       "      <td>16.085053</td>\n",
       "      <td>0.986230</td>\n",
       "      <td>5.732775</td>\n",
       "      <td>0.0</td>\n",
       "      <td>38817.153846</td>\n",
       "      <td>10.065934</td>\n",
       "      <td>1.384615</td>\n",
       "      <td>5.186813</td>\n",
       "      <td>1.0</td>\n",
       "    </tr>\n",
       "  </tbody>\n",
       "</table>\n",
       "<p>10 rows × 41 columns</p>\n",
       "</div>"
      ],
      "text/plain": [
       "      gender signup_method  signup_flow language affiliate_channel  \\\n",
       "0  -unknown-         basic            0       en            direct   \n",
       "1  -unknown-         basic            0       en         sem-brand   \n",
       "2       MALE      facebook            0       en         sem-brand   \n",
       "3       MALE      facebook            0       en       remarketing   \n",
       "4       MALE      facebook            0       en            direct   \n",
       "5  -unknown-         basic            0       en            direct   \n",
       "6  -unknown-         basic            0       en         sem-brand   \n",
       "7  -unknown-        google           12       en            direct   \n",
       "8     FEMALE      facebook            0       en           content   \n",
       "9  -unknown-         basic            0       en            direct   \n",
       "\n",
       "  affiliate_provider first_affiliate_tracked signup_app first_device_type  \\\n",
       "0             direct               untracked        Web       Mac Desktop   \n",
       "1             google               untracked        Web       Mac Desktop   \n",
       "2             google                     omg        Web   Windows Desktop   \n",
       "3             google               untracked        Web       Mac Desktop   \n",
       "4             direct                  linked        Web       Mac Desktop   \n",
       "5             direct               untracked        Web       Mac Desktop   \n",
       "6             google                     omg        Web       Mac Desktop   \n",
       "7             direct               untracked    Android     Android Phone   \n",
       "8             google                     omg        Web       Mac Desktop   \n",
       "9             direct               untracked        Web   Windows Desktop   \n",
       "\n",
       "  first_browser  ... stddev_samp(secs_elapsed)  stddev_samp(action_index)  \\\n",
       "0        Chrome  ...              65664.211460                  41.900220   \n",
       "1        Safari  ...              25399.779135                  19.134683   \n",
       "2            IE  ...             348232.914625                  22.365737   \n",
       "3        Chrome  ...              52836.263841                  16.520190   \n",
       "4        Safari  ...              11736.721391                   4.509250   \n",
       "5       Firefox  ...             129991.043237                  33.753451   \n",
       "6        Safari  ...             213371.033265                  20.720137   \n",
       "7     -unknown-  ...               4330.570863                   3.464102   \n",
       "8        Safari  ...             148625.979826                   5.935466   \n",
       "9        Safari  ...             145080.772956                  16.085053   \n",
       "\n",
       "   stddev_samp(action_type_index)  stddev_samp(action_detail_index)  \\\n",
       "0                        1.162660                         22.365982   \n",
       "1                        0.848201                          4.044467   \n",
       "2                        1.492042                         18.337337   \n",
       "3                        1.258306                         18.391574   \n",
       "4                        1.732051                          4.582576   \n",
       "5                        1.422226                          5.310795   \n",
       "6                        1.228904                          4.121076   \n",
       "7                        1.154701                          8.082904   \n",
       "8                        0.877344                          4.712604   \n",
       "9                        0.986230                          5.732775   \n",
       "\n",
       "   stddev_samp(device_type_index)  avg(secs_elapsed)  avg(action_index)  \\\n",
       "0                             0.0       35326.913043          30.086957   \n",
       "1                             0.0        9024.716049           5.703704   \n",
       "2                             0.0      107051.285714          23.821429   \n",
       "3                             0.0       26594.000000          13.250000   \n",
       "4                             0.0        7183.000000           7.333333   \n",
       "5                             0.0       43240.000000          44.750000   \n",
       "6                             0.0       50562.480000           9.680000   \n",
       "7                             0.0        2719.000000          12.000000   \n",
       "8                             0.0       37028.535714           3.621429   \n",
       "9                             0.0       38817.153846          10.065934   \n",
       "\n",
       "   avg(action_type_index)  avg(action_detail_index)  avg(device_type_index)  \n",
       "0                1.521739                 15.652174                     0.0  \n",
       "1                0.740741                  3.358025                     0.0  \n",
       "2                0.821429                 20.964286                     1.0  \n",
       "3                2.250000                 12.750000                     0.0  \n",
       "4                2.000000                  8.000000                     0.0  \n",
       "5                1.750000                  6.750000                     0.0  \n",
       "6                1.200000                  4.420000                     0.0  \n",
       "7                2.333333                  6.666667                     3.0  \n",
       "8                1.207143                  2.500000                     0.0  \n",
       "9                1.384615                  5.186813                     1.0  \n",
       "\n",
       "[10 rows x 41 columns]"
      ]
     },
     "execution_count": 88,
     "metadata": {},
     "output_type": "execute_result"
    }
   ],
   "source": [
    "dataset.limit(10).toPandas()"
   ]
  },
  {
   "cell_type": "code",
   "execution_count": 89,
   "metadata": {},
   "outputs": [
    {
     "name": "stdout",
     "output_type": "stream",
     "text": [
      "root\n",
      " |-- gender: string (nullable = true)\n",
      " |-- signup_method: string (nullable = true)\n",
      " |-- signup_flow: integer (nullable = true)\n",
      " |-- language: string (nullable = true)\n",
      " |-- affiliate_channel: string (nullable = true)\n",
      " |-- affiliate_provider: string (nullable = true)\n",
      " |-- first_affiliate_tracked: string (nullable = true)\n",
      " |-- signup_app: string (nullable = true)\n",
      " |-- first_device_type: string (nullable = true)\n",
      " |-- first_browser: string (nullable = true)\n",
      " |-- country_destination: string (nullable = true)\n",
      " |-- count(secs_elapsed): long (nullable = false)\n",
      " |-- count(action_index): long (nullable = false)\n",
      " |-- count(action_type_index): long (nullable = false)\n",
      " |-- count(action_detail_index): long (nullable = false)\n",
      " |-- count(device_type_index): long (nullable = false)\n",
      " |-- sum(secs_elapsed): double (nullable = true)\n",
      " |-- sum(action_index): double (nullable = true)\n",
      " |-- sum(action_type_index): double (nullable = true)\n",
      " |-- sum(action_detail_index): double (nullable = true)\n",
      " |-- sum(device_type_index): double (nullable = true)\n",
      " |-- max(secs_elapsed): double (nullable = true)\n",
      " |-- max(action_index): double (nullable = true)\n",
      " |-- max(action_type_index): double (nullable = true)\n",
      " |-- max(action_detail_index): double (nullable = true)\n",
      " |-- max(device_type_index): double (nullable = true)\n",
      " |-- min(secs_elapsed): double (nullable = true)\n",
      " |-- min(action_index): double (nullable = true)\n",
      " |-- min(action_type_index): double (nullable = true)\n",
      " |-- min(action_detail_index): double (nullable = true)\n",
      " |-- min(device_type_index): double (nullable = true)\n",
      " |-- stddev_samp(secs_elapsed): double (nullable = true)\n",
      " |-- stddev_samp(action_index): double (nullable = true)\n",
      " |-- stddev_samp(action_type_index): double (nullable = true)\n",
      " |-- stddev_samp(action_detail_index): double (nullable = true)\n",
      " |-- stddev_samp(device_type_index): double (nullable = true)\n",
      " |-- avg(secs_elapsed): double (nullable = true)\n",
      " |-- avg(action_index): double (nullable = true)\n",
      " |-- avg(action_type_index): double (nullable = true)\n",
      " |-- avg(action_detail_index): double (nullable = true)\n",
      " |-- avg(device_type_index): double (nullable = true)\n",
      "\n"
     ]
    }
   ],
   "source": [
    "dataset.printSchema()"
   ]
  },
  {
   "cell_type": "code",
   "execution_count": null,
   "metadata": {},
   "outputs": [],
   "source": []
  },
  {
   "cell_type": "code",
   "execution_count": 90,
   "metadata": {},
   "outputs": [],
   "source": [
    "# split training dataset to 80% of data for training and 20% of data for testing\n",
    "(UsersTrainSample, UsersTestSample) = dataset.randomSplit([0.8, 0.2])"
   ]
  },
  {
   "cell_type": "code",
   "execution_count": 91,
   "metadata": {},
   "outputs": [],
   "source": [
    "# tried to avoid biased data in the dataset by taking unbiased data samples\n",
    "# but after training experiments that did not enhance our results accuracy\n",
    "\n",
    "#TrainData = dataset.sampleBy('country_destination', fractions= {\n",
    "#        'NDF': 0.1,\n",
    "#       'US': 0.1,\n",
    "#        'other': 0.5,\n",
    "#        'FR': 0.5,\n",
    "#        'IT': 0.5,\n",
    "#        'GB': 0.5,\n",
    "#        'ES': 0.5,\n",
    "#        'CA': 1,\n",
    "#        'DE': 1,\n",
    "#        'NL': 1,\n",
    "#        'AU': 1,\n",
    "#        'PT': 1\n",
    "#    })"
   ]
  },
  {
   "cell_type": "code",
   "execution_count": 92,
   "metadata": {},
   "outputs": [],
   "source": [
    "# list categorical columns\n",
    "cat_cols = [item[0] for item in dataset.dtypes if item[1].startswith('string')] "
   ]
  },
  {
   "cell_type": "code",
   "execution_count": 93,
   "metadata": {},
   "outputs": [],
   "source": [
    "# list numerical columns\n",
    "num_cols = [item[0] for item in dataset.dtypes if item[1].startswith('int') | item[1].startswith('double')] "
   ]
  },
  {
   "cell_type": "code",
   "execution_count": 94,
   "metadata": {},
   "outputs": [
    {
     "data": {
      "text/plain": [
       "['gender',\n",
       " 'signup_method',\n",
       " 'language',\n",
       " 'affiliate_channel',\n",
       " 'affiliate_provider',\n",
       " 'first_affiliate_tracked',\n",
       " 'signup_app',\n",
       " 'first_device_type',\n",
       " 'first_browser',\n",
       " 'country_destination']"
      ]
     },
     "execution_count": 94,
     "metadata": {},
     "output_type": "execute_result"
    }
   ],
   "source": [
    "cat_cols"
   ]
  },
  {
   "cell_type": "code",
   "execution_count": 95,
   "metadata": {},
   "outputs": [],
   "source": [
    "# indexing categorical columns\n",
    "indexers = [StringIndexer(\n",
    "    inputCol=column, \n",
    "    outputCol=column + '_index', \n",
    "    handleInvalid='keep') for column in cat_cols]"
   ]
  },
  {
   "cell_type": "code",
   "execution_count": 96,
   "metadata": {},
   "outputs": [],
   "source": [
    "encoders = [OneHotEncoder(\n",
    "    inputCol=column + '_index', \n",
    "    outputCol= column + '_encoded') for column in cat_cols if column not in ['country_destination']]"
   ]
  },
  {
   "cell_type": "code",
   "execution_count": 97,
   "metadata": {},
   "outputs": [
    {
     "data": {
      "text/plain": [
       "['signup_flow',\n",
       " 'sum(secs_elapsed)',\n",
       " 'sum(action_index)',\n",
       " 'sum(action_type_index)',\n",
       " 'sum(action_detail_index)',\n",
       " 'sum(device_type_index)',\n",
       " 'max(secs_elapsed)',\n",
       " 'max(action_index)',\n",
       " 'max(action_type_index)',\n",
       " 'max(action_detail_index)',\n",
       " 'max(device_type_index)',\n",
       " 'min(secs_elapsed)',\n",
       " 'min(action_index)',\n",
       " 'min(action_type_index)',\n",
       " 'min(action_detail_index)',\n",
       " 'min(device_type_index)',\n",
       " 'stddev_samp(secs_elapsed)',\n",
       " 'stddev_samp(action_index)',\n",
       " 'stddev_samp(action_type_index)',\n",
       " 'stddev_samp(action_detail_index)',\n",
       " 'stddev_samp(device_type_index)',\n",
       " 'avg(secs_elapsed)',\n",
       " 'avg(action_index)',\n",
       " 'avg(action_type_index)',\n",
       " 'avg(action_detail_index)',\n",
       " 'avg(device_type_index)',\n",
       " 'gender_encoded',\n",
       " 'signup_method_encoded',\n",
       " 'language_encoded',\n",
       " 'affiliate_channel_encoded',\n",
       " 'affiliate_provider_encoded',\n",
       " 'first_affiliate_tracked_encoded',\n",
       " 'signup_app_encoded',\n",
       " 'first_device_type_encoded',\n",
       " 'first_browser_encoded']"
      ]
     },
     "execution_count": 97,
     "metadata": {},
     "output_type": "execute_result"
    }
   ],
   "source": [
    "# list required features\n",
    "requiredFeatures = num_cols + [\n",
    "                                'gender_encoded',\n",
    "                                'signup_method_encoded',\n",
    "                                'language_encoded',\n",
    "                                'affiliate_channel_encoded',\n",
    "                                'affiliate_provider_encoded',\n",
    "                                'first_affiliate_tracked_encoded',\n",
    "                                'signup_app_encoded',\n",
    "                                'first_device_type_encoded',\n",
    "                                'first_browser_encoded'\n",
    "                                ]\n",
    "requiredFeatures"
   ]
  },
  {
   "cell_type": "code",
   "execution_count": 98,
   "metadata": {},
   "outputs": [],
   "source": [
    "# assemble data for training model\n",
    "assembler = VectorAssembler(inputCols=requiredFeatures, outputCol='features')"
   ]
  },
  {
   "cell_type": "code",
   "execution_count": 99,
   "metadata": {},
   "outputs": [],
   "source": [
    "# use random forest algorithm for training\n",
    "rf = RandomForestClassifier(labelCol='country_destination_index', \n",
    "                            featuresCol='features',\n",
    "                            maxDepth=20)"
   ]
  },
  {
   "cell_type": "code",
   "execution_count": 100,
   "metadata": {},
   "outputs": [],
   "source": [
    "pipeline = Pipeline(\n",
    "    stages=indexers + encoders  + [assembler, rf]\n",
    ")"
   ]
  },
  {
   "cell_type": "code",
   "execution_count": 60,
   "metadata": {},
   "outputs": [],
   "source": [
    "model = pipeline.fit(UsersTrainSample)"
   ]
  },
  {
   "cell_type": "code",
   "execution_count": 61,
   "metadata": {},
   "outputs": [],
   "source": [
    "predictions = model.transform(UsersTestSample)\n",
    "# predictionsDF = predictions.toPandas()\n",
    "# predictionsDF.head()"
   ]
  },
  {
   "cell_type": "code",
   "execution_count": 62,
   "metadata": {},
   "outputs": [],
   "source": [
    "predictions = predictions.persist()"
   ]
  },
  {
   "cell_type": "code",
   "execution_count": 63,
   "metadata": {},
   "outputs": [
    {
     "name": "stdout",
     "output_type": "stream",
     "text": [
      "+-------------------------+----------+\n",
      "|country_destination_index|prediction|\n",
      "+-------------------------+----------+\n",
      "|                      0.0|       0.0|\n",
      "|                      0.0|       0.0|\n",
      "|                      0.0|       0.0|\n",
      "|                      1.0|       0.0|\n",
      "|                      0.0|       0.0|\n",
      "|                      0.0|       0.0|\n",
      "|                      4.0|       0.0|\n",
      "|                      0.0|       0.0|\n",
      "|                      0.0|       0.0|\n",
      "|                      0.0|       0.0|\n",
      "|                      0.0|       0.0|\n",
      "|                      0.0|       0.0|\n",
      "|                      1.0|       0.0|\n",
      "|                      0.0|       0.0|\n",
      "|                      0.0|       0.0|\n",
      "|                      0.0|       0.0|\n",
      "|                      0.0|       0.0|\n",
      "|                      6.0|       0.0|\n",
      "|                      0.0|       0.0|\n",
      "|                      0.0|       0.0|\n",
      "+-------------------------+----------+\n",
      "only showing top 20 rows\n",
      "\n"
     ]
    }
   ],
   "source": [
    "predictions_labels = predictions.select(\n",
    "    'country_destination_index',\n",
    "    'prediction'\n",
    ")\n",
    "\n",
    "predictions_labels.show()"
   ]
  },
  {
   "cell_type": "code",
   "execution_count": 64,
   "metadata": {},
   "outputs": [],
   "source": [
    "evaluator = MulticlassClassificationEvaluator(\n",
    "    labelCol='country_destination_index', \n",
    "    predictionCol='prediction', \n",
    "    metricName='accuracy'\n",
    ")"
   ]
  },
  {
   "cell_type": "code",
   "execution_count": 65,
   "metadata": {},
   "outputs": [
    {
     "name": "stdout",
     "output_type": "stream",
     "text": [
      "Test Accuracy =  0.6660208109077862\n"
     ]
    }
   ],
   "source": [
    "accuracy = evaluator.evaluate(predictions_labels)\n",
    "print('Test Accuracy = ', accuracy)"
   ]
  },
  {
   "cell_type": "code",
   "execution_count": null,
   "metadata": {},
   "outputs": [],
   "source": []
  },
  {
   "cell_type": "code",
   "execution_count": 66,
   "metadata": {},
   "outputs": [
    {
     "data": {
      "text/html": [
       "<div>\n",
       "<style scoped>\n",
       "    .dataframe tbody tr th:only-of-type {\n",
       "        vertical-align: middle;\n",
       "    }\n",
       "\n",
       "    .dataframe tbody tr th {\n",
       "        vertical-align: top;\n",
       "    }\n",
       "\n",
       "    .dataframe thead th {\n",
       "        text-align: right;\n",
       "    }\n",
       "</style>\n",
       "<table border=\"1\" class=\"dataframe\">\n",
       "  <thead>\n",
       "    <tr style=\"text-align: right;\">\n",
       "      <th></th>\n",
       "      <th>gender</th>\n",
       "      <th>signup_method</th>\n",
       "      <th>signup_flow</th>\n",
       "      <th>language</th>\n",
       "      <th>affiliate_channel</th>\n",
       "      <th>affiliate_provider</th>\n",
       "      <th>first_affiliate_tracked</th>\n",
       "      <th>signup_app</th>\n",
       "      <th>first_device_type</th>\n",
       "      <th>first_browser</th>\n",
       "      <th>...</th>\n",
       "      <th>affiliate_channel_encoded</th>\n",
       "      <th>affiliate_provider_encoded</th>\n",
       "      <th>first_affiliate_tracked_encoded</th>\n",
       "      <th>signup_app_encoded</th>\n",
       "      <th>first_device_type_encoded</th>\n",
       "      <th>first_browser_encoded</th>\n",
       "      <th>features</th>\n",
       "      <th>rawPrediction</th>\n",
       "      <th>probability</th>\n",
       "      <th>prediction</th>\n",
       "    </tr>\n",
       "  </thead>\n",
       "  <tbody>\n",
       "    <tr>\n",
       "      <th>0</th>\n",
       "      <td>-unknown-</td>\n",
       "      <td>basic</td>\n",
       "      <td>0</td>\n",
       "      <td>en</td>\n",
       "      <td>direct</td>\n",
       "      <td>direct</td>\n",
       "      <td>omg</td>\n",
       "      <td>Web</td>\n",
       "      <td>Mac Desktop</td>\n",
       "      <td>Safari</td>\n",
       "      <td>...</td>\n",
       "      <td>(1.0, 0.0, 0.0, 0.0, 0.0, 0.0, 0.0, 0.0)</td>\n",
       "      <td>(1.0, 0.0, 0.0, 0.0, 0.0, 0.0, 0.0, 0.0, 0.0, ...</td>\n",
       "      <td>(0.0, 1.0, 0.0, 0.0, 0.0, 0.0, 0.0)</td>\n",
       "      <td>(1.0, 0.0, 0.0, 0.0)</td>\n",
       "      <td>(1.0, 0.0, 0.0, 0.0, 0.0, 0.0, 0.0, 0.0, 0.0)</td>\n",
       "      <td>(0.0, 1.0, 0.0, 0.0, 0.0, 0.0, 0.0, 0.0, 0.0, ...</td>\n",
       "      <td>(0.0, 3352460.0, 457.0, 15.0, 441.0, 2.0, 1324...</td>\n",
       "      <td>[12.421119578659011, 5.116186500606994, 0.3638...</td>\n",
       "      <td>[0.6210559789329505, 0.25580932503034964, 0.01...</td>\n",
       "      <td>0.0</td>\n",
       "    </tr>\n",
       "    <tr>\n",
       "      <th>1</th>\n",
       "      <td>-unknown-</td>\n",
       "      <td>basic</td>\n",
       "      <td>0</td>\n",
       "      <td>en</td>\n",
       "      <td>direct</td>\n",
       "      <td>direct</td>\n",
       "      <td>product</td>\n",
       "      <td>Web</td>\n",
       "      <td>Windows Desktop</td>\n",
       "      <td>IE</td>\n",
       "      <td>...</td>\n",
       "      <td>(1.0, 0.0, 0.0, 0.0, 0.0, 0.0, 0.0, 0.0)</td>\n",
       "      <td>(1.0, 0.0, 0.0, 0.0, 0.0, 0.0, 0.0, 0.0, 0.0, ...</td>\n",
       "      <td>(0.0, 0.0, 0.0, 0.0, 1.0, 0.0, 0.0)</td>\n",
       "      <td>(1.0, 0.0, 0.0, 0.0)</td>\n",
       "      <td>(0.0, 1.0, 0.0, 0.0, 0.0, 0.0, 0.0, 0.0, 0.0)</td>\n",
       "      <td>(0.0, 0.0, 0.0, 0.0, 0.0, 1.0, 0.0, 0.0, 0.0, ...</td>\n",
       "      <td>(0.0, 776978.0, 49.0, 6.0, 42.0, 7.0, 420608.0...</td>\n",
       "      <td>[16.329895569955006, 2.3542501257709296, 0.275...</td>\n",
       "      <td>[0.8164947784977503, 0.11771250628854649, 0.01...</td>\n",
       "      <td>0.0</td>\n",
       "    </tr>\n",
       "    <tr>\n",
       "      <th>2</th>\n",
       "      <td>-unknown-</td>\n",
       "      <td>basic</td>\n",
       "      <td>0</td>\n",
       "      <td>en</td>\n",
       "      <td>direct</td>\n",
       "      <td>direct</td>\n",
       "      <td>tracked-other</td>\n",
       "      <td>Web</td>\n",
       "      <td>Mac Desktop</td>\n",
       "      <td>Safari</td>\n",
       "      <td>...</td>\n",
       "      <td>(1.0, 0.0, 0.0, 0.0, 0.0, 0.0, 0.0, 0.0)</td>\n",
       "      <td>(1.0, 0.0, 0.0, 0.0, 0.0, 0.0, 0.0, 0.0, 0.0, ...</td>\n",
       "      <td>(0.0, 0.0, 0.0, 1.0, 0.0, 0.0, 0.0)</td>\n",
       "      <td>(1.0, 0.0, 0.0, 0.0)</td>\n",
       "      <td>(1.0, 0.0, 0.0, 0.0, 0.0, 0.0, 0.0, 0.0, 0.0)</td>\n",
       "      <td>(0.0, 1.0, 0.0, 0.0, 0.0, 0.0, 0.0, 0.0, 0.0, ...</td>\n",
       "      <td>(0.0, 103939.0, 20.0, 3.0, 18.0, 0.0, 99035.0,...</td>\n",
       "      <td>[13.292719229411157, 2.339832026346223, 1.1641...</td>\n",
       "      <td>[0.6646359614705577, 0.11699160131731112, 0.05...</td>\n",
       "      <td>0.0</td>\n",
       "    </tr>\n",
       "    <tr>\n",
       "      <th>3</th>\n",
       "      <td>-unknown-</td>\n",
       "      <td>basic</td>\n",
       "      <td>0</td>\n",
       "      <td>en</td>\n",
       "      <td>direct</td>\n",
       "      <td>direct</td>\n",
       "      <td>untracked</td>\n",
       "      <td>Web</td>\n",
       "      <td>Desktop (Other)</td>\n",
       "      <td>Chrome</td>\n",
       "      <td>...</td>\n",
       "      <td>(1.0, 0.0, 0.0, 0.0, 0.0, 0.0, 0.0, 0.0)</td>\n",
       "      <td>(1.0, 0.0, 0.0, 0.0, 0.0, 0.0, 0.0, 0.0, 0.0, ...</td>\n",
       "      <td>(1.0, 0.0, 0.0, 0.0, 0.0, 0.0, 0.0)</td>\n",
       "      <td>(1.0, 0.0, 0.0, 0.0)</td>\n",
       "      <td>(0.0, 0.0, 0.0, 0.0, 0.0, 0.0, 0.0, 1.0, 0.0)</td>\n",
       "      <td>(1.0, 0.0, 0.0, 0.0, 0.0, 0.0, 0.0, 0.0, 0.0, ...</td>\n",
       "      <td>(0.0, 2952466.0, 978.0, 151.0, 606.0, 1000.0, ...</td>\n",
       "      <td>[13.656757415205428, 2.1145767656436485, 1.807...</td>\n",
       "      <td>[0.6828378707602715, 0.10572883828218245, 0.09...</td>\n",
       "      <td>0.0</td>\n",
       "    </tr>\n",
       "    <tr>\n",
       "      <th>4</th>\n",
       "      <td>-unknown-</td>\n",
       "      <td>basic</td>\n",
       "      <td>0</td>\n",
       "      <td>en</td>\n",
       "      <td>direct</td>\n",
       "      <td>direct</td>\n",
       "      <td>untracked</td>\n",
       "      <td>Web</td>\n",
       "      <td>Mac Desktop</td>\n",
       "      <td>Firefox</td>\n",
       "      <td>...</td>\n",
       "      <td>(1.0, 0.0, 0.0, 0.0, 0.0, 0.0, 0.0, 0.0)</td>\n",
       "      <td>(1.0, 0.0, 0.0, 0.0, 0.0, 0.0, 0.0, 0.0, 0.0, ...</td>\n",
       "      <td>(1.0, 0.0, 0.0, 0.0, 0.0, 0.0, 0.0)</td>\n",
       "      <td>(1.0, 0.0, 0.0, 0.0)</td>\n",
       "      <td>(1.0, 0.0, 0.0, 0.0, 0.0, 0.0, 0.0, 0.0, 0.0)</td>\n",
       "      <td>(0.0, 0.0, 0.0, 1.0, 0.0, 0.0, 0.0, 0.0, 0.0, ...</td>\n",
       "      <td>(0.0, 21782.0, 66.0, 7.0, 54.0, 0.0, 17354.0, ...</td>\n",
       "      <td>[14.73893414067521, 4.2081319661521785, 0.2695...</td>\n",
       "      <td>[0.7369467070337603, 0.21040659830760886, 0.01...</td>\n",
       "      <td>0.0</td>\n",
       "    </tr>\n",
       "  </tbody>\n",
       "</table>\n",
       "<p>5 rows × 64 columns</p>\n",
       "</div>"
      ],
      "text/plain": [
       "      gender signup_method  signup_flow language affiliate_channel  \\\n",
       "0  -unknown-         basic            0       en            direct   \n",
       "1  -unknown-         basic            0       en            direct   \n",
       "2  -unknown-         basic            0       en            direct   \n",
       "3  -unknown-         basic            0       en            direct   \n",
       "4  -unknown-         basic            0       en            direct   \n",
       "\n",
       "  affiliate_provider first_affiliate_tracked signup_app first_device_type  \\\n",
       "0             direct                     omg        Web       Mac Desktop   \n",
       "1             direct                 product        Web   Windows Desktop   \n",
       "2             direct           tracked-other        Web       Mac Desktop   \n",
       "3             direct               untracked        Web   Desktop (Other)   \n",
       "4             direct               untracked        Web       Mac Desktop   \n",
       "\n",
       "  first_browser  ...                 affiliate_channel_encoded  \\\n",
       "0        Safari  ...  (1.0, 0.0, 0.0, 0.0, 0.0, 0.0, 0.0, 0.0)   \n",
       "1            IE  ...  (1.0, 0.0, 0.0, 0.0, 0.0, 0.0, 0.0, 0.0)   \n",
       "2        Safari  ...  (1.0, 0.0, 0.0, 0.0, 0.0, 0.0, 0.0, 0.0)   \n",
       "3        Chrome  ...  (1.0, 0.0, 0.0, 0.0, 0.0, 0.0, 0.0, 0.0)   \n",
       "4       Firefox  ...  (1.0, 0.0, 0.0, 0.0, 0.0, 0.0, 0.0, 0.0)   \n",
       "\n",
       "                          affiliate_provider_encoded  \\\n",
       "0  (1.0, 0.0, 0.0, 0.0, 0.0, 0.0, 0.0, 0.0, 0.0, ...   \n",
       "1  (1.0, 0.0, 0.0, 0.0, 0.0, 0.0, 0.0, 0.0, 0.0, ...   \n",
       "2  (1.0, 0.0, 0.0, 0.0, 0.0, 0.0, 0.0, 0.0, 0.0, ...   \n",
       "3  (1.0, 0.0, 0.0, 0.0, 0.0, 0.0, 0.0, 0.0, 0.0, ...   \n",
       "4  (1.0, 0.0, 0.0, 0.0, 0.0, 0.0, 0.0, 0.0, 0.0, ...   \n",
       "\n",
       "       first_affiliate_tracked_encoded    signup_app_encoded  \\\n",
       "0  (0.0, 1.0, 0.0, 0.0, 0.0, 0.0, 0.0)  (1.0, 0.0, 0.0, 0.0)   \n",
       "1  (0.0, 0.0, 0.0, 0.0, 1.0, 0.0, 0.0)  (1.0, 0.0, 0.0, 0.0)   \n",
       "2  (0.0, 0.0, 0.0, 1.0, 0.0, 0.0, 0.0)  (1.0, 0.0, 0.0, 0.0)   \n",
       "3  (1.0, 0.0, 0.0, 0.0, 0.0, 0.0, 0.0)  (1.0, 0.0, 0.0, 0.0)   \n",
       "4  (1.0, 0.0, 0.0, 0.0, 0.0, 0.0, 0.0)  (1.0, 0.0, 0.0, 0.0)   \n",
       "\n",
       "                       first_device_type_encoded  \\\n",
       "0  (1.0, 0.0, 0.0, 0.0, 0.0, 0.0, 0.0, 0.0, 0.0)   \n",
       "1  (0.0, 1.0, 0.0, 0.0, 0.0, 0.0, 0.0, 0.0, 0.0)   \n",
       "2  (1.0, 0.0, 0.0, 0.0, 0.0, 0.0, 0.0, 0.0, 0.0)   \n",
       "3  (0.0, 0.0, 0.0, 0.0, 0.0, 0.0, 0.0, 1.0, 0.0)   \n",
       "4  (1.0, 0.0, 0.0, 0.0, 0.0, 0.0, 0.0, 0.0, 0.0)   \n",
       "\n",
       "                               first_browser_encoded  \\\n",
       "0  (0.0, 1.0, 0.0, 0.0, 0.0, 0.0, 0.0, 0.0, 0.0, ...   \n",
       "1  (0.0, 0.0, 0.0, 0.0, 0.0, 1.0, 0.0, 0.0, 0.0, ...   \n",
       "2  (0.0, 1.0, 0.0, 0.0, 0.0, 0.0, 0.0, 0.0, 0.0, ...   \n",
       "3  (1.0, 0.0, 0.0, 0.0, 0.0, 0.0, 0.0, 0.0, 0.0, ...   \n",
       "4  (0.0, 0.0, 0.0, 1.0, 0.0, 0.0, 0.0, 0.0, 0.0, ...   \n",
       "\n",
       "                                            features  \\\n",
       "0  (0.0, 3352460.0, 457.0, 15.0, 441.0, 2.0, 1324...   \n",
       "1  (0.0, 776978.0, 49.0, 6.0, 42.0, 7.0, 420608.0...   \n",
       "2  (0.0, 103939.0, 20.0, 3.0, 18.0, 0.0, 99035.0,...   \n",
       "3  (0.0, 2952466.0, 978.0, 151.0, 606.0, 1000.0, ...   \n",
       "4  (0.0, 21782.0, 66.0, 7.0, 54.0, 0.0, 17354.0, ...   \n",
       "\n",
       "                                       rawPrediction  \\\n",
       "0  [12.421119578659011, 5.116186500606994, 0.3638...   \n",
       "1  [16.329895569955006, 2.3542501257709296, 0.275...   \n",
       "2  [13.292719229411157, 2.339832026346223, 1.1641...   \n",
       "3  [13.656757415205428, 2.1145767656436485, 1.807...   \n",
       "4  [14.73893414067521, 4.2081319661521785, 0.2695...   \n",
       "\n",
       "                                         probability  prediction  \n",
       "0  [0.6210559789329505, 0.25580932503034964, 0.01...         0.0  \n",
       "1  [0.8164947784977503, 0.11771250628854649, 0.01...         0.0  \n",
       "2  [0.6646359614705577, 0.11699160131731112, 0.05...         0.0  \n",
       "3  [0.6828378707602715, 0.10572883828218245, 0.09...         0.0  \n",
       "4  [0.7369467070337603, 0.21040659830760886, 0.01...         0.0  \n",
       "\n",
       "[5 rows x 64 columns]"
      ]
     },
     "execution_count": 66,
     "metadata": {},
     "output_type": "execute_result"
    }
   ],
   "source": [
    "predictions.toPandas().head()"
   ]
  },
  {
   "cell_type": "code",
   "execution_count": 67,
   "metadata": {},
   "outputs": [],
   "source": [
    "# list countries distination indexes\n",
    "country_destination_index = predictions.select('country_destination', 'country_destination_index')\\\n",
    "                                        .distinct()\\\n",
    "                                        .orderBy('country_destination_index')\\\n",
    "                                        .collect()"
   ]
  },
  {
   "cell_type": "code",
   "execution_count": 68,
   "metadata": {},
   "outputs": [],
   "source": [
    "country_destination_indexes = {i[1]: i[0] for i in country_destination_index}"
   ]
  },
  {
   "cell_type": "code",
   "execution_count": 69,
   "metadata": {},
   "outputs": [
    {
     "data": {
      "text/plain": [
       "{0.0: 'NDF',\n",
       " 1.0: 'US',\n",
       " 2.0: 'other',\n",
       " 3.0: 'FR',\n",
       " 4.0: 'IT',\n",
       " 5.0: 'GB',\n",
       " 6.0: 'ES',\n",
       " 7.0: 'CA',\n",
       " 8.0: 'NL',\n",
       " 9.0: 'DE',\n",
       " 10.0: 'AU',\n",
       " 11.0: 'PT'}"
      ]
     },
     "execution_count": 69,
     "metadata": {},
     "output_type": "execute_result"
    }
   ],
   "source": [
    "country_destination_indexes"
   ]
  },
  {
   "cell_type": "markdown",
   "metadata": {},
   "source": [
    "#### apply NDCG (Normalized discounted cumulative gain) method of accuracy evaluation"
   ]
  },
  {
   "attachments": {
    "2020-05-09_132652.png": {
     "image/png": "[encoded data removed]"
    }
   },
   "cell_type": "markdown",
   "metadata": {},
   "source": [
    "![2020-05-09_132652.png](attachment:2020-05-09_132652.png)"
   ]
  },
  {
   "cell_type": "code",
   "execution_count": 70,
   "metadata": {},
   "outputs": [],
   "source": [
    "def reverse_sorted_predictions_func(probabilities):\n",
    "    result = [\n",
    "       country_destination_indexes[i] for i in \\\n",
    "            sorted(range(len(probabilities)),\n",
    "                key=lambda k: float(probabilities[k]),\n",
    "                reverse = True\n",
    "            ) \\\n",
    "            if i < len(country_destination_indexes)\n",
    "    ]\n",
    "    # Return only first 5 countries\n",
    "    return result[:5]"
   ]
  },
  {
   "cell_type": "code",
   "execution_count": 71,
   "metadata": {},
   "outputs": [],
   "source": [
    "reverse_sorted_predictions_udf = pySFun.udf(lambda probabilities: reverse_sorted_predictions_func(probabilities), ArrayType(StringType()))"
   ]
  },
  {
   "cell_type": "code",
   "execution_count": 72,
   "metadata": {},
   "outputs": [],
   "source": [
    "def NDCG_from_probabilities_func(lable, probabilities):\n",
    "    prediction_array = sorted(\n",
    "        range(len(probabilities)),\n",
    "        key=lambda k: float(probabilities[k]),\n",
    "        reverse = True\n",
    "    )\n",
    "    \n",
    "    # Only heighest 5 predictions\n",
    "    prediction_array = prediction_array[:5]\n",
    "    \n",
    "    for i, val in enumerate(prediction_array):\n",
    "        if (val == lable):\n",
    "            return float(1 / np.log2((i+1) + 1))\n",
    "    return 0"
   ]
  },
  {
   "cell_type": "code",
   "execution_count": 73,
   "metadata": {},
   "outputs": [],
   "source": [
    "NDCG_from_probabilities_udf = pySFun.udf(lambda lable, probabilities: NDCG_from_probabilities_func(lable, probabilities), DoubleType())"
   ]
  },
  {
   "cell_type": "code",
   "execution_count": 74,
   "metadata": {},
   "outputs": [],
   "source": [
    "predictionsDF = predictions.withColumn('reverse_sorted_predictions', reverse_sorted_predictions_udf(predictions.probability))\\\n",
    "                        .withColumn('NDCG', NDCG_from_probabilities_udf(predictions.country_destination_index, predictions.probability))"
   ]
  },
  {
   "cell_type": "code",
   "execution_count": 75,
   "metadata": {},
   "outputs": [
    {
     "data": {
      "text/html": [
       "<div>\n",
       "<style scoped>\n",
       "    .dataframe tbody tr th:only-of-type {\n",
       "        vertical-align: middle;\n",
       "    }\n",
       "\n",
       "    .dataframe tbody tr th {\n",
       "        vertical-align: top;\n",
       "    }\n",
       "\n",
       "    .dataframe thead th {\n",
       "        text-align: right;\n",
       "    }\n",
       "</style>\n",
       "<table border=\"1\" class=\"dataframe\">\n",
       "  <thead>\n",
       "    <tr style=\"text-align: right;\">\n",
       "      <th></th>\n",
       "      <th>gender</th>\n",
       "      <th>signup_method</th>\n",
       "      <th>signup_flow</th>\n",
       "      <th>language</th>\n",
       "      <th>affiliate_channel</th>\n",
       "      <th>affiliate_provider</th>\n",
       "      <th>first_affiliate_tracked</th>\n",
       "      <th>signup_app</th>\n",
       "      <th>first_device_type</th>\n",
       "      <th>first_browser</th>\n",
       "      <th>...</th>\n",
       "      <th>first_affiliate_tracked_encoded</th>\n",
       "      <th>signup_app_encoded</th>\n",
       "      <th>first_device_type_encoded</th>\n",
       "      <th>first_browser_encoded</th>\n",
       "      <th>features</th>\n",
       "      <th>rawPrediction</th>\n",
       "      <th>probability</th>\n",
       "      <th>prediction</th>\n",
       "      <th>reverse_sorted_predictions</th>\n",
       "      <th>NDCG</th>\n",
       "    </tr>\n",
       "  </thead>\n",
       "  <tbody>\n",
       "    <tr>\n",
       "      <th>0</th>\n",
       "      <td>-unknown-</td>\n",
       "      <td>basic</td>\n",
       "      <td>0</td>\n",
       "      <td>en</td>\n",
       "      <td>direct</td>\n",
       "      <td>direct</td>\n",
       "      <td>omg</td>\n",
       "      <td>Web</td>\n",
       "      <td>Mac Desktop</td>\n",
       "      <td>Safari</td>\n",
       "      <td>...</td>\n",
       "      <td>(0.0, 1.0, 0.0, 0.0, 0.0, 0.0, 0.0)</td>\n",
       "      <td>(1.0, 0.0, 0.0, 0.0)</td>\n",
       "      <td>(1.0, 0.0, 0.0, 0.0, 0.0, 0.0, 0.0, 0.0, 0.0)</td>\n",
       "      <td>(0.0, 1.0, 0.0, 0.0, 0.0, 0.0, 0.0, 0.0, 0.0, ...</td>\n",
       "      <td>(0.0, 3352460.0, 457.0, 15.0, 441.0, 2.0, 1324...</td>\n",
       "      <td>[12.421119578659011, 5.116186500606994, 0.3638...</td>\n",
       "      <td>[0.6210559789329505, 0.25580932503034964, 0.01...</td>\n",
       "      <td>0.0</td>\n",
       "      <td>[NDF, US, FR, GB, other]</td>\n",
       "      <td>1.00000</td>\n",
       "    </tr>\n",
       "    <tr>\n",
       "      <th>1</th>\n",
       "      <td>-unknown-</td>\n",
       "      <td>basic</td>\n",
       "      <td>0</td>\n",
       "      <td>en</td>\n",
       "      <td>direct</td>\n",
       "      <td>direct</td>\n",
       "      <td>product</td>\n",
       "      <td>Web</td>\n",
       "      <td>Windows Desktop</td>\n",
       "      <td>IE</td>\n",
       "      <td>...</td>\n",
       "      <td>(0.0, 0.0, 0.0, 0.0, 1.0, 0.0, 0.0)</td>\n",
       "      <td>(1.0, 0.0, 0.0, 0.0)</td>\n",
       "      <td>(0.0, 1.0, 0.0, 0.0, 0.0, 0.0, 0.0, 0.0, 0.0)</td>\n",
       "      <td>(0.0, 0.0, 0.0, 0.0, 0.0, 1.0, 0.0, 0.0, 0.0, ...</td>\n",
       "      <td>(0.0, 776978.0, 49.0, 6.0, 42.0, 7.0, 420608.0...</td>\n",
       "      <td>[16.329895569955006, 2.3542501257709296, 0.275...</td>\n",
       "      <td>[0.8164947784977503, 0.11771250628854649, 0.01...</td>\n",
       "      <td>0.0</td>\n",
       "      <td>[NDF, US, GB, other, CA]</td>\n",
       "      <td>1.00000</td>\n",
       "    </tr>\n",
       "    <tr>\n",
       "      <th>2</th>\n",
       "      <td>-unknown-</td>\n",
       "      <td>basic</td>\n",
       "      <td>0</td>\n",
       "      <td>en</td>\n",
       "      <td>direct</td>\n",
       "      <td>direct</td>\n",
       "      <td>tracked-other</td>\n",
       "      <td>Web</td>\n",
       "      <td>Mac Desktop</td>\n",
       "      <td>Safari</td>\n",
       "      <td>...</td>\n",
       "      <td>(0.0, 0.0, 0.0, 1.0, 0.0, 0.0, 0.0)</td>\n",
       "      <td>(1.0, 0.0, 0.0, 0.0)</td>\n",
       "      <td>(1.0, 0.0, 0.0, 0.0, 0.0, 0.0, 0.0, 0.0, 0.0)</td>\n",
       "      <td>(0.0, 1.0, 0.0, 0.0, 0.0, 0.0, 0.0, 0.0, 0.0, ...</td>\n",
       "      <td>(0.0, 103939.0, 20.0, 3.0, 18.0, 0.0, 99035.0,...</td>\n",
       "      <td>[13.292719229411157, 2.339832026346223, 1.1641...</td>\n",
       "      <td>[0.6646359614705577, 0.11699160131731112, 0.05...</td>\n",
       "      <td>0.0</td>\n",
       "      <td>[NDF, US, IT, other, CA]</td>\n",
       "      <td>1.00000</td>\n",
       "    </tr>\n",
       "    <tr>\n",
       "      <th>3</th>\n",
       "      <td>-unknown-</td>\n",
       "      <td>basic</td>\n",
       "      <td>0</td>\n",
       "      <td>en</td>\n",
       "      <td>direct</td>\n",
       "      <td>direct</td>\n",
       "      <td>untracked</td>\n",
       "      <td>Web</td>\n",
       "      <td>Desktop (Other)</td>\n",
       "      <td>Chrome</td>\n",
       "      <td>...</td>\n",
       "      <td>(1.0, 0.0, 0.0, 0.0, 0.0, 0.0, 0.0)</td>\n",
       "      <td>(1.0, 0.0, 0.0, 0.0)</td>\n",
       "      <td>(0.0, 0.0, 0.0, 0.0, 0.0, 0.0, 0.0, 1.0, 0.0)</td>\n",
       "      <td>(1.0, 0.0, 0.0, 0.0, 0.0, 0.0, 0.0, 0.0, 0.0, ...</td>\n",
       "      <td>(0.0, 2952466.0, 978.0, 151.0, 606.0, 1000.0, ...</td>\n",
       "      <td>[13.656757415205428, 2.1145767656436485, 1.807...</td>\n",
       "      <td>[0.6828378707602715, 0.10572883828218245, 0.09...</td>\n",
       "      <td>0.0</td>\n",
       "      <td>[NDF, US, IT, other, GB]</td>\n",
       "      <td>0.63093</td>\n",
       "    </tr>\n",
       "    <tr>\n",
       "      <th>4</th>\n",
       "      <td>-unknown-</td>\n",
       "      <td>basic</td>\n",
       "      <td>0</td>\n",
       "      <td>en</td>\n",
       "      <td>direct</td>\n",
       "      <td>direct</td>\n",
       "      <td>untracked</td>\n",
       "      <td>Web</td>\n",
       "      <td>Mac Desktop</td>\n",
       "      <td>Firefox</td>\n",
       "      <td>...</td>\n",
       "      <td>(1.0, 0.0, 0.0, 0.0, 0.0, 0.0, 0.0)</td>\n",
       "      <td>(1.0, 0.0, 0.0, 0.0)</td>\n",
       "      <td>(1.0, 0.0, 0.0, 0.0, 0.0, 0.0, 0.0, 0.0, 0.0)</td>\n",
       "      <td>(0.0, 0.0, 0.0, 1.0, 0.0, 0.0, 0.0, 0.0, 0.0, ...</td>\n",
       "      <td>(0.0, 21782.0, 66.0, 7.0, 54.0, 0.0, 17354.0, ...</td>\n",
       "      <td>[14.73893414067521, 4.2081319661521785, 0.2695...</td>\n",
       "      <td>[0.7369467070337603, 0.21040659830760886, 0.01...</td>\n",
       "      <td>0.0</td>\n",
       "      <td>[NDF, US, other, FR, IT]</td>\n",
       "      <td>1.00000</td>\n",
       "    </tr>\n",
       "    <tr>\n",
       "      <th>...</th>\n",
       "      <td>...</td>\n",
       "      <td>...</td>\n",
       "      <td>...</td>\n",
       "      <td>...</td>\n",
       "      <td>...</td>\n",
       "      <td>...</td>\n",
       "      <td>...</td>\n",
       "      <td>...</td>\n",
       "      <td>...</td>\n",
       "      <td>...</td>\n",
       "      <td>...</td>\n",
       "      <td>...</td>\n",
       "      <td>...</td>\n",
       "      <td>...</td>\n",
       "      <td>...</td>\n",
       "      <td>...</td>\n",
       "      <td>...</td>\n",
       "      <td>...</td>\n",
       "      <td>...</td>\n",
       "      <td>...</td>\n",
       "      <td>...</td>\n",
       "    </tr>\n",
       "    <tr>\n",
       "      <th>13930</th>\n",
       "      <td>MALE</td>\n",
       "      <td>facebook</td>\n",
       "      <td>0</td>\n",
       "      <td>en</td>\n",
       "      <td>direct</td>\n",
       "      <td>direct</td>\n",
       "      <td>untracked</td>\n",
       "      <td>Web</td>\n",
       "      <td>Windows Desktop</td>\n",
       "      <td>Chrome</td>\n",
       "      <td>...</td>\n",
       "      <td>(1.0, 0.0, 0.0, 0.0, 0.0, 0.0, 0.0)</td>\n",
       "      <td>(1.0, 0.0, 0.0, 0.0)</td>\n",
       "      <td>(0.0, 1.0, 0.0, 0.0, 0.0, 0.0, 0.0, 0.0, 0.0)</td>\n",
       "      <td>(1.0, 0.0, 0.0, 0.0, 0.0, 0.0, 0.0, 0.0, 0.0, ...</td>\n",
       "      <td>(0.0, 1520167.0, 425.0, 126.0, 402.0, 87.0, 24...</td>\n",
       "      <td>[11.129755721598437, 5.358196782089855, 0.8699...</td>\n",
       "      <td>[0.5564877860799221, 0.26790983910449284, 0.04...</td>\n",
       "      <td>0.0</td>\n",
       "      <td>[NDF, US, FR, IT, other]</td>\n",
       "      <td>0.63093</td>\n",
       "    </tr>\n",
       "    <tr>\n",
       "      <th>13931</th>\n",
       "      <td>MALE</td>\n",
       "      <td>facebook</td>\n",
       "      <td>0</td>\n",
       "      <td>en</td>\n",
       "      <td>seo</td>\n",
       "      <td>google</td>\n",
       "      <td>untracked</td>\n",
       "      <td>Web</td>\n",
       "      <td>Mac Desktop</td>\n",
       "      <td>Chrome</td>\n",
       "      <td>...</td>\n",
       "      <td>(1.0, 0.0, 0.0, 0.0, 0.0, 0.0, 0.0)</td>\n",
       "      <td>(1.0, 0.0, 0.0, 0.0)</td>\n",
       "      <td>(1.0, 0.0, 0.0, 0.0, 0.0, 0.0, 0.0, 0.0, 0.0)</td>\n",
       "      <td>(1.0, 0.0, 0.0, 0.0, 0.0, 0.0, 0.0, 0.0, 0.0, ...</td>\n",
       "      <td>(0.0, 4498671.0, 2537.0, 321.0, 1649.0, 0.0, 1...</td>\n",
       "      <td>[5.133789065951429, 10.622769228583747, 0.6006...</td>\n",
       "      <td>[0.2566894532975715, 0.5311384614291874, 0.030...</td>\n",
       "      <td>1.0</td>\n",
       "      <td>[US, NDF, IT, FR, other]</td>\n",
       "      <td>1.00000</td>\n",
       "    </tr>\n",
       "    <tr>\n",
       "      <th>13932</th>\n",
       "      <td>MALE</td>\n",
       "      <td>facebook</td>\n",
       "      <td>12</td>\n",
       "      <td>en</td>\n",
       "      <td>api</td>\n",
       "      <td>other</td>\n",
       "      <td>untracked</td>\n",
       "      <td>iOS</td>\n",
       "      <td>iPhone</td>\n",
       "      <td>-unknown-</td>\n",
       "      <td>...</td>\n",
       "      <td>(1.0, 0.0, 0.0, 0.0, 0.0, 0.0, 0.0)</td>\n",
       "      <td>(0.0, 1.0, 0.0, 0.0)</td>\n",
       "      <td>(0.0, 0.0, 1.0, 0.0, 0.0, 0.0, 0.0, 0.0, 0.0)</td>\n",
       "      <td>(0.0, 0.0, 1.0, 0.0, 0.0, 0.0, 0.0, 0.0, 0.0, ...</td>\n",
       "      <td>(12.0, 38019.0, 0.0, 6.0, 4.0, 12.0, 37589.0, ...</td>\n",
       "      <td>[14.481888273492547, 5.252007226399551, 0.0764...</td>\n",
       "      <td>[0.7240944136746272, 0.26260036131997755, 0.00...</td>\n",
       "      <td>0.0</td>\n",
       "      <td>[NDF, US, ES, other, IT]</td>\n",
       "      <td>1.00000</td>\n",
       "    </tr>\n",
       "    <tr>\n",
       "      <th>13933</th>\n",
       "      <td>MALE</td>\n",
       "      <td>facebook</td>\n",
       "      <td>12</td>\n",
       "      <td>en</td>\n",
       "      <td>api</td>\n",
       "      <td>other</td>\n",
       "      <td>untracked</td>\n",
       "      <td>iOS</td>\n",
       "      <td>iPhone</td>\n",
       "      <td>Mobile Safari</td>\n",
       "      <td>...</td>\n",
       "      <td>(1.0, 0.0, 0.0, 0.0, 0.0, 0.0, 0.0)</td>\n",
       "      <td>(0.0, 1.0, 0.0, 0.0)</td>\n",
       "      <td>(0.0, 0.0, 1.0, 0.0, 0.0, 0.0, 0.0, 0.0, 0.0)</td>\n",
       "      <td>(0.0, 0.0, 0.0, 0.0, 1.0, 0.0, 0.0, 0.0, 0.0, ...</td>\n",
       "      <td>(12.0, 596369.0, 490.0, 64.0, 116.0, 54.0, 345...</td>\n",
       "      <td>[12.485612535612535, 7.134722222222223, 0.0495...</td>\n",
       "      <td>[0.6242806267806268, 0.35673611111111114, 0.00...</td>\n",
       "      <td>0.0</td>\n",
       "      <td>[NDF, US, DE, AU, other]</td>\n",
       "      <td>0.63093</td>\n",
       "    </tr>\n",
       "    <tr>\n",
       "      <th>13934</th>\n",
       "      <td>MALE</td>\n",
       "      <td>facebook</td>\n",
       "      <td>23</td>\n",
       "      <td>en</td>\n",
       "      <td>direct</td>\n",
       "      <td>direct</td>\n",
       "      <td>untracked</td>\n",
       "      <td>Android</td>\n",
       "      <td>Other/Unknown</td>\n",
       "      <td>-unknown-</td>\n",
       "      <td>...</td>\n",
       "      <td>(1.0, 0.0, 0.0, 0.0, 0.0, 0.0, 0.0)</td>\n",
       "      <td>(0.0, 0.0, 1.0, 0.0)</td>\n",
       "      <td>(0.0, 0.0, 0.0, 0.0, 1.0, 0.0, 0.0, 0.0, 0.0)</td>\n",
       "      <td>(0.0, 0.0, 1.0, 0.0, 0.0, 0.0, 0.0, 0.0, 0.0, ...</td>\n",
       "      <td>(23.0, 635106.0, 486.0, 75.0, 307.0, 230.0, 15...</td>\n",
       "      <td>[18.360561417555264, 1.277423053948357, 0.2085...</td>\n",
       "      <td>[0.9180280708777632, 0.06387115269741786, 0.01...</td>\n",
       "      <td>0.0</td>\n",
       "      <td>[NDF, US, other, DE, FR]</td>\n",
       "      <td>1.00000</td>\n",
       "    </tr>\n",
       "  </tbody>\n",
       "</table>\n",
       "<p>13935 rows × 66 columns</p>\n",
       "</div>"
      ],
      "text/plain": [
       "          gender signup_method  signup_flow language affiliate_channel  \\\n",
       "0      -unknown-         basic            0       en            direct   \n",
       "1      -unknown-         basic            0       en            direct   \n",
       "2      -unknown-         basic            0       en            direct   \n",
       "3      -unknown-         basic            0       en            direct   \n",
       "4      -unknown-         basic            0       en            direct   \n",
       "...          ...           ...          ...      ...               ...   \n",
       "13930       MALE      facebook            0       en            direct   \n",
       "13931       MALE      facebook            0       en               seo   \n",
       "13932       MALE      facebook           12       en               api   \n",
       "13933       MALE      facebook           12       en               api   \n",
       "13934       MALE      facebook           23       en            direct   \n",
       "\n",
       "      affiliate_provider first_affiliate_tracked signup_app first_device_type  \\\n",
       "0                 direct                     omg        Web       Mac Desktop   \n",
       "1                 direct                 product        Web   Windows Desktop   \n",
       "2                 direct           tracked-other        Web       Mac Desktop   \n",
       "3                 direct               untracked        Web   Desktop (Other)   \n",
       "4                 direct               untracked        Web       Mac Desktop   \n",
       "...                  ...                     ...        ...               ...   \n",
       "13930             direct               untracked        Web   Windows Desktop   \n",
       "13931             google               untracked        Web       Mac Desktop   \n",
       "13932              other               untracked        iOS            iPhone   \n",
       "13933              other               untracked        iOS            iPhone   \n",
       "13934             direct               untracked    Android     Other/Unknown   \n",
       "\n",
       "       first_browser  ...      first_affiliate_tracked_encoded  \\\n",
       "0             Safari  ...  (0.0, 1.0, 0.0, 0.0, 0.0, 0.0, 0.0)   \n",
       "1                 IE  ...  (0.0, 0.0, 0.0, 0.0, 1.0, 0.0, 0.0)   \n",
       "2             Safari  ...  (0.0, 0.0, 0.0, 1.0, 0.0, 0.0, 0.0)   \n",
       "3             Chrome  ...  (1.0, 0.0, 0.0, 0.0, 0.0, 0.0, 0.0)   \n",
       "4            Firefox  ...  (1.0, 0.0, 0.0, 0.0, 0.0, 0.0, 0.0)   \n",
       "...              ...  ...                                  ...   \n",
       "13930         Chrome  ...  (1.0, 0.0, 0.0, 0.0, 0.0, 0.0, 0.0)   \n",
       "13931         Chrome  ...  (1.0, 0.0, 0.0, 0.0, 0.0, 0.0, 0.0)   \n",
       "13932      -unknown-  ...  (1.0, 0.0, 0.0, 0.0, 0.0, 0.0, 0.0)   \n",
       "13933  Mobile Safari  ...  (1.0, 0.0, 0.0, 0.0, 0.0, 0.0, 0.0)   \n",
       "13934      -unknown-  ...  (1.0, 0.0, 0.0, 0.0, 0.0, 0.0, 0.0)   \n",
       "\n",
       "         signup_app_encoded                      first_device_type_encoded  \\\n",
       "0      (1.0, 0.0, 0.0, 0.0)  (1.0, 0.0, 0.0, 0.0, 0.0, 0.0, 0.0, 0.0, 0.0)   \n",
       "1      (1.0, 0.0, 0.0, 0.0)  (0.0, 1.0, 0.0, 0.0, 0.0, 0.0, 0.0, 0.0, 0.0)   \n",
       "2      (1.0, 0.0, 0.0, 0.0)  (1.0, 0.0, 0.0, 0.0, 0.0, 0.0, 0.0, 0.0, 0.0)   \n",
       "3      (1.0, 0.0, 0.0, 0.0)  (0.0, 0.0, 0.0, 0.0, 0.0, 0.0, 0.0, 1.0, 0.0)   \n",
       "4      (1.0, 0.0, 0.0, 0.0)  (1.0, 0.0, 0.0, 0.0, 0.0, 0.0, 0.0, 0.0, 0.0)   \n",
       "...                     ...                                            ...   \n",
       "13930  (1.0, 0.0, 0.0, 0.0)  (0.0, 1.0, 0.0, 0.0, 0.0, 0.0, 0.0, 0.0, 0.0)   \n",
       "13931  (1.0, 0.0, 0.0, 0.0)  (1.0, 0.0, 0.0, 0.0, 0.0, 0.0, 0.0, 0.0, 0.0)   \n",
       "13932  (0.0, 1.0, 0.0, 0.0)  (0.0, 0.0, 1.0, 0.0, 0.0, 0.0, 0.0, 0.0, 0.0)   \n",
       "13933  (0.0, 1.0, 0.0, 0.0)  (0.0, 0.0, 1.0, 0.0, 0.0, 0.0, 0.0, 0.0, 0.0)   \n",
       "13934  (0.0, 0.0, 1.0, 0.0)  (0.0, 0.0, 0.0, 0.0, 1.0, 0.0, 0.0, 0.0, 0.0)   \n",
       "\n",
       "                                   first_browser_encoded  \\\n",
       "0      (0.0, 1.0, 0.0, 0.0, 0.0, 0.0, 0.0, 0.0, 0.0, ...   \n",
       "1      (0.0, 0.0, 0.0, 0.0, 0.0, 1.0, 0.0, 0.0, 0.0, ...   \n",
       "2      (0.0, 1.0, 0.0, 0.0, 0.0, 0.0, 0.0, 0.0, 0.0, ...   \n",
       "3      (1.0, 0.0, 0.0, 0.0, 0.0, 0.0, 0.0, 0.0, 0.0, ...   \n",
       "4      (0.0, 0.0, 0.0, 1.0, 0.0, 0.0, 0.0, 0.0, 0.0, ...   \n",
       "...                                                  ...   \n",
       "13930  (1.0, 0.0, 0.0, 0.0, 0.0, 0.0, 0.0, 0.0, 0.0, ...   \n",
       "13931  (1.0, 0.0, 0.0, 0.0, 0.0, 0.0, 0.0, 0.0, 0.0, ...   \n",
       "13932  (0.0, 0.0, 1.0, 0.0, 0.0, 0.0, 0.0, 0.0, 0.0, ...   \n",
       "13933  (0.0, 0.0, 0.0, 0.0, 1.0, 0.0, 0.0, 0.0, 0.0, ...   \n",
       "13934  (0.0, 0.0, 1.0, 0.0, 0.0, 0.0, 0.0, 0.0, 0.0, ...   \n",
       "\n",
       "                                                features  \\\n",
       "0      (0.0, 3352460.0, 457.0, 15.0, 441.0, 2.0, 1324...   \n",
       "1      (0.0, 776978.0, 49.0, 6.0, 42.0, 7.0, 420608.0...   \n",
       "2      (0.0, 103939.0, 20.0, 3.0, 18.0, 0.0, 99035.0,...   \n",
       "3      (0.0, 2952466.0, 978.0, 151.0, 606.0, 1000.0, ...   \n",
       "4      (0.0, 21782.0, 66.0, 7.0, 54.0, 0.0, 17354.0, ...   \n",
       "...                                                  ...   \n",
       "13930  (0.0, 1520167.0, 425.0, 126.0, 402.0, 87.0, 24...   \n",
       "13931  (0.0, 4498671.0, 2537.0, 321.0, 1649.0, 0.0, 1...   \n",
       "13932  (12.0, 38019.0, 0.0, 6.0, 4.0, 12.0, 37589.0, ...   \n",
       "13933  (12.0, 596369.0, 490.0, 64.0, 116.0, 54.0, 345...   \n",
       "13934  (23.0, 635106.0, 486.0, 75.0, 307.0, 230.0, 15...   \n",
       "\n",
       "                                           rawPrediction  \\\n",
       "0      [12.421119578659011, 5.116186500606994, 0.3638...   \n",
       "1      [16.329895569955006, 2.3542501257709296, 0.275...   \n",
       "2      [13.292719229411157, 2.339832026346223, 1.1641...   \n",
       "3      [13.656757415205428, 2.1145767656436485, 1.807...   \n",
       "4      [14.73893414067521, 4.2081319661521785, 0.2695...   \n",
       "...                                                  ...   \n",
       "13930  [11.129755721598437, 5.358196782089855, 0.8699...   \n",
       "13931  [5.133789065951429, 10.622769228583747, 0.6006...   \n",
       "13932  [14.481888273492547, 5.252007226399551, 0.0764...   \n",
       "13933  [12.485612535612535, 7.134722222222223, 0.0495...   \n",
       "13934  [18.360561417555264, 1.277423053948357, 0.2085...   \n",
       "\n",
       "                                             probability  prediction  \\\n",
       "0      [0.6210559789329505, 0.25580932503034964, 0.01...         0.0   \n",
       "1      [0.8164947784977503, 0.11771250628854649, 0.01...         0.0   \n",
       "2      [0.6646359614705577, 0.11699160131731112, 0.05...         0.0   \n",
       "3      [0.6828378707602715, 0.10572883828218245, 0.09...         0.0   \n",
       "4      [0.7369467070337603, 0.21040659830760886, 0.01...         0.0   \n",
       "...                                                  ...         ...   \n",
       "13930  [0.5564877860799221, 0.26790983910449284, 0.04...         0.0   \n",
       "13931  [0.2566894532975715, 0.5311384614291874, 0.030...         1.0   \n",
       "13932  [0.7240944136746272, 0.26260036131997755, 0.00...         0.0   \n",
       "13933  [0.6242806267806268, 0.35673611111111114, 0.00...         0.0   \n",
       "13934  [0.9180280708777632, 0.06387115269741786, 0.01...         0.0   \n",
       "\n",
       "       reverse_sorted_predictions     NDCG  \n",
       "0        [NDF, US, FR, GB, other]  1.00000  \n",
       "1        [NDF, US, GB, other, CA]  1.00000  \n",
       "2        [NDF, US, IT, other, CA]  1.00000  \n",
       "3        [NDF, US, IT, other, GB]  0.63093  \n",
       "4        [NDF, US, other, FR, IT]  1.00000  \n",
       "...                           ...      ...  \n",
       "13930    [NDF, US, FR, IT, other]  0.63093  \n",
       "13931    [US, NDF, IT, FR, other]  1.00000  \n",
       "13932    [NDF, US, ES, other, IT]  1.00000  \n",
       "13933    [NDF, US, DE, AU, other]  0.63093  \n",
       "13934    [NDF, US, other, DE, FR]  1.00000  \n",
       "\n",
       "[13935 rows x 66 columns]"
      ]
     },
     "execution_count": 75,
     "metadata": {},
     "output_type": "execute_result"
    }
   ],
   "source": [
    "predictionsDF.toPandas()"
   ]
  },
  {
   "cell_type": "code",
   "execution_count": 76,
   "metadata": {},
   "outputs": [
    {
     "data": {
      "text/plain": [
       "0.8732835540986115"
      ]
     },
     "execution_count": 76,
     "metadata": {},
     "output_type": "execute_result"
    }
   ],
   "source": [
    "predictionsDF.select('NDCG').groupBy().avg().collect()[0][0]"
   ]
  },
  {
   "cell_type": "code",
   "execution_count": null,
   "metadata": {},
   "outputs": [],
   "source": []
  },
  {
   "cell_type": "code",
   "execution_count": 77,
   "metadata": {},
   "outputs": [],
   "source": [
    "testingDataset = UsersTestingData\\\n",
    "            .coalesce(1)\\\n",
    "            .join(transformedSessionsDF_summary, UsersTestingData.id == transformedSessionsDF_summary.user_id)"
   ]
  },
  {
   "cell_type": "code",
   "execution_count": 78,
   "metadata": {},
   "outputs": [
    {
     "data": {
      "text/plain": [
       "['id',\n",
       " 'date_account_created',\n",
       " 'timestamp_first_active',\n",
       " 'date_first_booking',\n",
       " 'gender',\n",
       " 'age',\n",
       " 'signup_method',\n",
       " 'signup_flow',\n",
       " 'language',\n",
       " 'affiliate_channel',\n",
       " 'affiliate_provider',\n",
       " 'first_affiliate_tracked',\n",
       " 'signup_app',\n",
       " 'first_device_type',\n",
       " 'first_browser',\n",
       " 'user_id',\n",
       " 'count(secs_elapsed)',\n",
       " 'count(action_index)',\n",
       " 'count(action_type_index)',\n",
       " 'count(action_detail_index)',\n",
       " 'count(device_type_index)',\n",
       " 'sum(secs_elapsed)',\n",
       " 'sum(action_index)',\n",
       " 'sum(action_type_index)',\n",
       " 'sum(action_detail_index)',\n",
       " 'sum(device_type_index)',\n",
       " 'max(secs_elapsed)',\n",
       " 'max(action_index)',\n",
       " 'max(action_type_index)',\n",
       " 'max(action_detail_index)',\n",
       " 'max(device_type_index)',\n",
       " 'min(secs_elapsed)',\n",
       " 'min(action_index)',\n",
       " 'min(action_type_index)',\n",
       " 'min(action_detail_index)',\n",
       " 'min(device_type_index)',\n",
       " 'stddev_samp(secs_elapsed)',\n",
       " 'stddev_samp(action_index)',\n",
       " 'stddev_samp(action_type_index)',\n",
       " 'stddev_samp(action_detail_index)',\n",
       " 'stddev_samp(device_type_index)',\n",
       " 'avg(secs_elapsed)',\n",
       " 'avg(action_index)',\n",
       " 'avg(action_type_index)',\n",
       " 'avg(action_detail_index)',\n",
       " 'avg(device_type_index)']"
      ]
     },
     "execution_count": 78,
     "metadata": {},
     "output_type": "execute_result"
    }
   ],
   "source": [
    "testingDataset.columns"
   ]
  },
  {
   "cell_type": "code",
   "execution_count": 79,
   "metadata": {},
   "outputs": [
    {
     "data": {
      "text/plain": [
       "60790"
      ]
     },
     "execution_count": 79,
     "metadata": {},
     "output_type": "execute_result"
    }
   ],
   "source": [
    "testingDataset.count()"
   ]
  },
  {
   "cell_type": "code",
   "execution_count": 80,
   "metadata": {},
   "outputs": [],
   "source": [
    "idCol = testingDataset.select('id').toPandas()"
   ]
  },
  {
   "cell_type": "code",
   "execution_count": 81,
   "metadata": {},
   "outputs": [
    {
     "data": {
      "text/plain": [
       "id    60790\n",
       "dtype: int64"
      ]
     },
     "execution_count": 81,
     "metadata": {},
     "output_type": "execute_result"
    }
   ],
   "source": [
    "idCol.count()"
   ]
  },
  {
   "cell_type": "code",
   "execution_count": 82,
   "metadata": {},
   "outputs": [
    {
     "data": {
      "text/html": [
       "<div>\n",
       "<style scoped>\n",
       "    .dataframe tbody tr th:only-of-type {\n",
       "        vertical-align: middle;\n",
       "    }\n",
       "\n",
       "    .dataframe tbody tr th {\n",
       "        vertical-align: top;\n",
       "    }\n",
       "\n",
       "    .dataframe thead th {\n",
       "        text-align: right;\n",
       "    }\n",
       "</style>\n",
       "<table border=\"1\" class=\"dataframe\">\n",
       "  <thead>\n",
       "    <tr style=\"text-align: right;\">\n",
       "      <th></th>\n",
       "      <th>id</th>\n",
       "    </tr>\n",
       "  </thead>\n",
       "  <tbody>\n",
       "    <tr>\n",
       "      <th>0</th>\n",
       "      <td>ab6t9i0zbh</td>\n",
       "    </tr>\n",
       "    <tr>\n",
       "      <th>1</th>\n",
       "      <td>nh4n5oqhg0</td>\n",
       "    </tr>\n",
       "    <tr>\n",
       "      <th>2</th>\n",
       "      <td>0vik5hv9lx</td>\n",
       "    </tr>\n",
       "    <tr>\n",
       "      <th>3</th>\n",
       "      <td>at8y572uuv</td>\n",
       "    </tr>\n",
       "    <tr>\n",
       "      <th>4</th>\n",
       "      <td>p4ols4q2mi</td>\n",
       "    </tr>\n",
       "  </tbody>\n",
       "</table>\n",
       "</div>"
      ],
      "text/plain": [
       "           id\n",
       "0  ab6t9i0zbh\n",
       "1  nh4n5oqhg0\n",
       "2  0vik5hv9lx\n",
       "3  at8y572uuv\n",
       "4  p4ols4q2mi"
      ]
     },
     "execution_count": 82,
     "metadata": {},
     "output_type": "execute_result"
    }
   ],
   "source": [
    "idCol.head()"
   ]
  },
  {
   "cell_type": "code",
   "execution_count": 83,
   "metadata": {},
   "outputs": [],
   "source": [
    "testingDatasetForPredictions = testingDataset\\\n",
    "    .drop('id', 'user_id', 'age', 'date_account_created', 'timestamp_first_active', 'date_first_booking')"
   ]
  },
  {
   "cell_type": "code",
   "execution_count": 84,
   "metadata": {},
   "outputs": [],
   "source": [
    "testingPredictions = model.transform(testingDatasetForPredictions)"
   ]
  },
  {
   "cell_type": "code",
   "execution_count": 85,
   "metadata": {},
   "outputs": [],
   "source": [
    "testingPredictionsDF = testingPredictions.withColumn('reverse_sorted_predictions', reverse_sorted_predictions_udf(testingPredictions.probability))"
   ]
  },
  {
   "cell_type": "code",
   "execution_count": 86,
   "metadata": {},
   "outputs": [],
   "source": [
    "testingPredictionsPandasDf = testingPredictionsDF.toPandas()"
   ]
  },
  {
   "cell_type": "code",
   "execution_count": 87,
   "metadata": {},
   "outputs": [],
   "source": [
    "testingPredictionsWithIds = pd.concat([idCol, testingPredictionsPandasDf], axis=1)"
   ]
  },
  {
   "cell_type": "code",
   "execution_count": 88,
   "metadata": {},
   "outputs": [
    {
     "data": {
      "text/html": [
       "<div>\n",
       "<style scoped>\n",
       "    .dataframe tbody tr th:only-of-type {\n",
       "        vertical-align: middle;\n",
       "    }\n",
       "\n",
       "    .dataframe tbody tr th {\n",
       "        vertical-align: top;\n",
       "    }\n",
       "\n",
       "    .dataframe thead th {\n",
       "        text-align: right;\n",
       "    }\n",
       "</style>\n",
       "<table border=\"1\" class=\"dataframe\">\n",
       "  <thead>\n",
       "    <tr style=\"text-align: right;\">\n",
       "      <th></th>\n",
       "      <th>id</th>\n",
       "      <th>reverse_sorted_predictions</th>\n",
       "    </tr>\n",
       "  </thead>\n",
       "  <tbody>\n",
       "    <tr>\n",
       "      <th>0</th>\n",
       "      <td>ab6t9i0zbh</td>\n",
       "      <td>[NDF, US, other, IT, GB]</td>\n",
       "    </tr>\n",
       "    <tr>\n",
       "      <th>1</th>\n",
       "      <td>nh4n5oqhg0</td>\n",
       "      <td>[NDF, US, other, IT, FR]</td>\n",
       "    </tr>\n",
       "    <tr>\n",
       "      <th>2</th>\n",
       "      <td>0vik5hv9lx</td>\n",
       "      <td>[NDF, US, FR, GB, IT]</td>\n",
       "    </tr>\n",
       "    <tr>\n",
       "      <th>3</th>\n",
       "      <td>at8y572uuv</td>\n",
       "      <td>[NDF, US, other, IT, FR]</td>\n",
       "    </tr>\n",
       "    <tr>\n",
       "      <th>4</th>\n",
       "      <td>p4ols4q2mi</td>\n",
       "      <td>[NDF, US, FR, other, AU]</td>\n",
       "    </tr>\n",
       "  </tbody>\n",
       "</table>\n",
       "</div>"
      ],
      "text/plain": [
       "           id reverse_sorted_predictions\n",
       "0  ab6t9i0zbh   [NDF, US, other, IT, GB]\n",
       "1  nh4n5oqhg0   [NDF, US, other, IT, FR]\n",
       "2  0vik5hv9lx      [NDF, US, FR, GB, IT]\n",
       "3  at8y572uuv   [NDF, US, other, IT, FR]\n",
       "4  p4ols4q2mi   [NDF, US, FR, other, AU]"
      ]
     },
     "execution_count": 88,
     "metadata": {},
     "output_type": "execute_result"
    }
   ],
   "source": [
    "resultsDf = testingPredictionsWithIds[['id', 'reverse_sorted_predictions']]\n",
    "resultsDf.head()"
   ]
  },
  {
   "cell_type": "code",
   "execution_count": 89,
   "metadata": {},
   "outputs": [
    {
     "data": {
      "text/html": [
       "<div>\n",
       "<style scoped>\n",
       "    .dataframe tbody tr th:only-of-type {\n",
       "        vertical-align: middle;\n",
       "    }\n",
       "\n",
       "    .dataframe tbody tr th {\n",
       "        vertical-align: top;\n",
       "    }\n",
       "\n",
       "    .dataframe thead th {\n",
       "        text-align: right;\n",
       "    }\n",
       "</style>\n",
       "<table border=\"1\" class=\"dataframe\">\n",
       "  <thead>\n",
       "    <tr style=\"text-align: right;\">\n",
       "      <th></th>\n",
       "      <th>id</th>\n",
       "      <th>reverse_sorted_predictions</th>\n",
       "    </tr>\n",
       "  </thead>\n",
       "  <tbody>\n",
       "    <tr>\n",
       "      <th>0</th>\n",
       "      <td>ab6t9i0zbh</td>\n",
       "      <td>[NDF, US, other, IT, GB]</td>\n",
       "    </tr>\n",
       "    <tr>\n",
       "      <th>1</th>\n",
       "      <td>nh4n5oqhg0</td>\n",
       "      <td>[NDF, US, other, IT, FR]</td>\n",
       "    </tr>\n",
       "    <tr>\n",
       "      <th>2</th>\n",
       "      <td>0vik5hv9lx</td>\n",
       "      <td>[NDF, US, FR, GB, IT]</td>\n",
       "    </tr>\n",
       "    <tr>\n",
       "      <th>3</th>\n",
       "      <td>at8y572uuv</td>\n",
       "      <td>[NDF, US, other, IT, FR]</td>\n",
       "    </tr>\n",
       "    <tr>\n",
       "      <th>4</th>\n",
       "      <td>p4ols4q2mi</td>\n",
       "      <td>[NDF, US, FR, other, AU]</td>\n",
       "    </tr>\n",
       "    <tr>\n",
       "      <th>...</th>\n",
       "      <td>...</td>\n",
       "      <td>...</td>\n",
       "    </tr>\n",
       "    <tr>\n",
       "      <th>60785</th>\n",
       "      <td>qs4pwvzgdg</td>\n",
       "      <td>[US, NDF, other, ES, IT]</td>\n",
       "    </tr>\n",
       "    <tr>\n",
       "      <th>60786</th>\n",
       "      <td>tqg727clbz</td>\n",
       "      <td>[US, NDF, FR, other, ES]</td>\n",
       "    </tr>\n",
       "    <tr>\n",
       "      <th>60787</th>\n",
       "      <td>0b9o9pnjpw</td>\n",
       "      <td>[NDF, US, ES, FR, other]</td>\n",
       "    </tr>\n",
       "    <tr>\n",
       "      <th>60788</th>\n",
       "      <td>9cndlww9xa</td>\n",
       "      <td>[NDF, US, other, ES, FR]</td>\n",
       "    </tr>\n",
       "    <tr>\n",
       "      <th>60789</th>\n",
       "      <td>6iclyho8bp</td>\n",
       "      <td>[NDF, other, ES, US, FR]</td>\n",
       "    </tr>\n",
       "  </tbody>\n",
       "</table>\n",
       "<p>60790 rows × 2 columns</p>\n",
       "</div>"
      ],
      "text/plain": [
       "               id reverse_sorted_predictions\n",
       "0      ab6t9i0zbh   [NDF, US, other, IT, GB]\n",
       "1      nh4n5oqhg0   [NDF, US, other, IT, FR]\n",
       "2      0vik5hv9lx      [NDF, US, FR, GB, IT]\n",
       "3      at8y572uuv   [NDF, US, other, IT, FR]\n",
       "4      p4ols4q2mi   [NDF, US, FR, other, AU]\n",
       "...           ...                        ...\n",
       "60785  qs4pwvzgdg   [US, NDF, other, ES, IT]\n",
       "60786  tqg727clbz   [US, NDF, FR, other, ES]\n",
       "60787  0b9o9pnjpw   [NDF, US, ES, FR, other]\n",
       "60788  9cndlww9xa   [NDF, US, other, ES, FR]\n",
       "60789  6iclyho8bp   [NDF, other, ES, US, FR]\n",
       "\n",
       "[60790 rows x 2 columns]"
      ]
     },
     "execution_count": 89,
     "metadata": {},
     "output_type": "execute_result"
    }
   ],
   "source": [
    "resultsDf"
   ]
  },
  {
   "cell_type": "code",
   "execution_count": 90,
   "metadata": {},
   "outputs": [],
   "source": [
    "from pyspark.sql.functions import explode"
   ]
  },
  {
   "cell_type": "code",
   "execution_count": 91,
   "metadata": {},
   "outputs": [],
   "source": [
    "results = spark.createDataFrame(resultsDf)"
   ]
  },
  {
   "cell_type": "code",
   "execution_count": 92,
   "metadata": {},
   "outputs": [
    {
     "name": "stdout",
     "output_type": "stream",
     "text": [
      "root\n",
      " |-- id: string (nullable = true)\n",
      " |-- reverse_sorted_predictions: array (nullable = true)\n",
      " |    |-- element: string (containsNull = true)\n",
      "\n",
      "+----------+--------------------------+\n",
      "|        id|reverse_sorted_predictions|\n",
      "+----------+--------------------------+\n",
      "|ab6t9i0zbh|      [NDF, US, other, ...|\n",
      "|nh4n5oqhg0|      [NDF, US, other, ...|\n",
      "|0vik5hv9lx|      [NDF, US, FR, GB,...|\n",
      "|at8y572uuv|      [NDF, US, other, ...|\n",
      "|p4ols4q2mi|      [NDF, US, FR, oth...|\n",
      "+----------+--------------------------+\n",
      "only showing top 5 rows\n",
      "\n"
     ]
    }
   ],
   "source": [
    "results.printSchema()\n",
    "results.show(5)"
   ]
  },
  {
   "cell_type": "code",
   "execution_count": 93,
   "metadata": {},
   "outputs": [],
   "source": [
    "explodedResults = results.select(results.id,explode(results.reverse_sorted_predictions).alias('country'))"
   ]
  },
  {
   "cell_type": "code",
   "execution_count": 94,
   "metadata": {},
   "outputs": [
    {
     "name": "stdout",
     "output_type": "stream",
     "text": [
      "+----------+-------+\n",
      "|        id|country|\n",
      "+----------+-------+\n",
      "|ab6t9i0zbh|    NDF|\n",
      "|ab6t9i0zbh|     US|\n",
      "|ab6t9i0zbh|  other|\n",
      "|ab6t9i0zbh|     IT|\n",
      "|ab6t9i0zbh|     GB|\n",
      "|nh4n5oqhg0|    NDF|\n",
      "|nh4n5oqhg0|     US|\n",
      "|nh4n5oqhg0|  other|\n",
      "|nh4n5oqhg0|     IT|\n",
      "|nh4n5oqhg0|     FR|\n",
      "|0vik5hv9lx|    NDF|\n",
      "|0vik5hv9lx|     US|\n",
      "|0vik5hv9lx|     FR|\n",
      "|0vik5hv9lx|     GB|\n",
      "|0vik5hv9lx|     IT|\n",
      "|at8y572uuv|    NDF|\n",
      "|at8y572uuv|     US|\n",
      "|at8y572uuv|  other|\n",
      "|at8y572uuv|     IT|\n",
      "|at8y572uuv|     FR|\n",
      "+----------+-------+\n",
      "only showing top 20 rows\n",
      "\n"
     ]
    }
   ],
   "source": [
    "explodedResults.show(20)"
   ]
  },
  {
   "cell_type": "code",
   "execution_count": 95,
   "metadata": {},
   "outputs": [],
   "source": [
    "explodedResults.coalesce(1).write.format('csv').save('./data/results.csv',header = 'true')"
   ]
  }
 ],
 "metadata": {
  "kernelspec": {
   "display_name": "Python 3",
   "language": "python",
   "name": "python3"
  },
  "language_info": {
   "codemirror_mode": {
    "name": "ipython",
    "version": 3
   },
   "file_extension": ".py",
   "mimetype": "text/x-python",
   "name": "python",
   "nbconvert_exporter": "python",
   "pygments_lexer": "ipython3",
   "version": "3.7.3"
  }
 },
 "nbformat": 4,
 "nbformat_minor": 4
}
